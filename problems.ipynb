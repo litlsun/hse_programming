{
  "nbformat": 4,
  "nbformat_minor": 0,
  "metadata": {
    "colab": {
      "provenance": [],
      "collapsed_sections": [
        "0uajYxPS8NZf",
        "S6NKmlZ29n69",
        "wZ6IdpFU9y12",
        "aCF2TUnR_aA2",
        "yUcdnV8m_i4t",
        "a8kNscYD___I"
      ],
      "include_colab_link": true
    },
    "kernelspec": {
      "name": "python3",
      "display_name": "Python 3"
    },
    "language_info": {
      "name": "python"
    }
  },
  "cells": [
    {
      "cell_type": "markdown",
      "metadata": {
        "id": "view-in-github",
        "colab_type": "text"
      },
      "source": [
        "<a href=\"https://colab.research.google.com/github/litlsun/hse_programming/blob/main/problems.ipynb\" target=\"_parent\"><img src=\"https://colab.research.google.com/assets/colab-badge.svg\" alt=\"Open In Colab\"/></a>"
      ]
    },
    {
      "cell_type": "markdown",
      "source": [
        "##### Регулярные выражения"
      ],
      "metadata": {
        "id": "0uajYxPS8NZf"
      }
    },
    {
      "cell_type": "code",
      "source": [
        "import re\n",
        "\n",
        "n = 0"
      ],
      "metadata": {
        "id": "UmaQS0jr8eoF"
      },
      "execution_count": null,
      "outputs": []
    },
    {
      "cell_type": "code",
      "source": [
        "# 1. Напишите регулярное выражение для проверки email адреса\n",
        "#    Программа возвращает True/False в переменную result\n",
        "\n",
        "test_email = \"test@example.com\"\n",
        "\n",
        "pattern = r'^[\\w\\.-]+@[\\w\\.-]+\\.\\w+$'\n",
        "result = bool(re.match(pattern, test_email))\n",
        "\n",
        "assert result == True, \"Email должен быть валидным\"\n",
        "n += 1\n",
        "print(f\"Решено правильно {n} задач из 20\")"
      ],
      "metadata": {
        "id": "QLXKvuDw8Nxh",
        "colab": {
          "base_uri": "https://localhost:8080/"
        },
        "outputId": "413cd3ce-f69e-4f10-b63b-7a125d4193d7"
      },
      "execution_count": null,
      "outputs": [
        {
          "output_type": "stream",
          "name": "stdout",
          "text": [
            "Решено правильно 1 задач из 20\n"
          ]
        }
      ]
    },
    {
      "cell_type": "code",
      "source": [
        "# 2. Найдите все числа в строке с помощью регулярных выражений\n",
        "#    Программа возвращает список чисел в переменную numbers\n",
        "\n",
        "text_with_numbers = \"У меня 5 яблок и 3 апельсина\"\n",
        "\n",
        "numbers = re.findall(r'\\d+', text_with_numbers)\n",
        "\n",
        "assert numbers == ['5', '3'], f\"Найдены числа: {numbers}, ожидалось: ['5', '3']\"\n",
        "n += 1\n",
        "print(f\"Решено правильно {n} задач из 20\")"
      ],
      "metadata": {
        "id": "0MP-wE7t8gIc",
        "colab": {
          "base_uri": "https://localhost:8080/"
        },
        "outputId": "ac2e5b3d-3e5f-46b2-828f-1e2a8e87df1b"
      },
      "execution_count": null,
      "outputs": [
        {
          "output_type": "stream",
          "name": "stdout",
          "text": [
            "Решено правильно 2 задач из 20\n"
          ]
        }
      ]
    },
    {
      "cell_type": "code",
      "source": [
        "# 3. Замените все числа в тексте на букву 'X'\n",
        "#    Программа возвращает измененную строку в переменную result\n",
        "\n",
        "text_to_replace = \"У меня 5 яблок и 3 апельсина\"\n",
        "\n",
        "result = re.sub(r'\\d+', 'X', text_to_replace)\n",
        "\n",
        "assert result == \"У меня X яблок и X апельсина\", f\"Результат: '{result}'\"\n",
        "n += 1\n",
        "print(f\"Решено правильно {n} задач из 20\")"
      ],
      "metadata": {
        "id": "ZaIAtG-k9CeT",
        "colab": {
          "base_uri": "https://localhost:8080/"
        },
        "outputId": "45136faa-aec4-49cc-e99d-21afa8c2d551"
      },
      "execution_count": null,
      "outputs": [
        {
          "output_type": "stream",
          "name": "stdout",
          "text": [
            "Решено правильно 3 задач из 20\n"
          ]
        }
      ]
    },
    {
      "cell_type": "markdown",
      "source": [
        "##### Методы строк"
      ],
      "metadata": {
        "id": "S6NKmlZ29n69"
      }
    },
    {
      "cell_type": "code",
      "source": [
        "# 4. Выполните основные операции со строками\n",
        "#    Программа должна создать четыре переменные:\n",
        "#    upper_result, lower_result, length, words\n",
        "\n",
        "test_string = \"Hello World\"\n",
        "\n",
        "upper_result = test_string.upper()\n",
        "lower_result = test_string.lower()\n",
        "length = len(test_string)\n",
        "words = test_string.split()\n",
        "\n",
        "assert upper_result == \"HELLO WORLD\", \"upper() не работает\"\n",
        "assert lower_result == \"hello world\", \"lower() не работает\"\n",
        "assert length == 11, \"len() не работает\"\n",
        "assert words == [\"Hello\", \"World\"], \"split() не работает\"\n",
        "n += 1\n",
        "print(f\"Решено правильно {n} задач из 20\")"
      ],
      "metadata": {
        "id": "6bLVJ6vf9lq8",
        "colab": {
          "base_uri": "https://localhost:8080/"
        },
        "outputId": "32729f58-2121-4f00-9028-5f3d1253b90f"
      },
      "execution_count": null,
      "outputs": [
        {
          "output_type": "stream",
          "name": "stdout",
          "text": [
            "Решено правильно 4 задач из 20\n"
          ]
        }
      ]
    },
    {
      "cell_type": "code",
      "source": [
        "# 5. Получите указанные части строки с помощью срезов\n",
        "#    Программа должна создать две переменные:\n",
        "#    first_part, last_part\n",
        "\n",
        "text = \"Hello World\"\n",
        "\n",
        "first_part = text[:5]\n",
        "last_part = text[6:]\n",
        "\n",
        "assert first_part == \"Hello\", f\"Первая часть: '{first_part}'\"\n",
        "assert last_part == \"World\", f\"Последняя часть: '{last_part}'\"\n",
        "n += 1\n",
        "print(f\"Решено правильно {n} задач из 20\")"
      ],
      "metadata": {
        "id": "6s5ro-iJ9tzr",
        "colab": {
          "base_uri": "https://localhost:8080/"
        },
        "outputId": "5688a68c-8469-4067-802e-46562658063b"
      },
      "execution_count": null,
      "outputs": [
        {
          "output_type": "stream",
          "name": "stdout",
          "text": [
            "Решено правильно 5 задач из 20\n"
          ]
        }
      ]
    },
    {
      "cell_type": "code",
      "source": [
        "# 6. Создайте строку с использованием f-строк\n",
        "#    Программа должна создать строку в переменную formatted_string\n",
        "\n",
        "name = \"Alice\"\n",
        "age = 25\n",
        "\n",
        "formatted_string = f\"Меня зовут {name} и мне {age} лет\"\n",
        "\n",
        "assert formatted_string == \"Меня зовут Alice и мне 25 лет\", f\"Результат: '{formatted_string}'\"\n",
        "n += 1\n",
        "print(f\"Решено правильно {n} задач из 20\")"
      ],
      "metadata": {
        "id": "BHP09K8j9v00",
        "colab": {
          "base_uri": "https://localhost:8080/"
        },
        "outputId": "1565dd28-b2f0-4f28-a85f-6899ab7cb0d1"
      },
      "execution_count": null,
      "outputs": [
        {
          "output_type": "stream",
          "name": "stdout",
          "text": [
            "Решено правильно 6 задач из 20\n"
          ]
        }
      ]
    },
    {
      "cell_type": "markdown",
      "source": [
        "##### Арифметические операции"
      ],
      "metadata": {
        "id": "wZ6IdpFU9y12"
      }
    },
    {
      "cell_type": "code",
      "source": [
        "# 7. Выполните основные арифметические операции\n",
        "#    Программа должна создать семь переменных:\n",
        "#    addition для сложения чисел и 3\n",
        "#    subtraction для вычитания 4 из 10\n",
        "#    multiplication для деления 15 на 3\n",
        "#    division для деления 15 на 3\n",
        "#    floor_division для целочисленного деления 15 на 3\n",
        "#    modulo для получения остатка от деления 7 на 3\n",
        "#    exponent для возведения 2 в степень числа 3\n",
        "\n",
        "addition = 5 + 3\n",
        "subtraction = 10 - 4\n",
        "multiplication = 4 * 3\n",
        "division = 15 / 3\n",
        "floor_division = 15 // 3\n",
        "modulo = 7 % 3\n",
        "exponent = 2 ** 3\n",
        "\n",
        "assert addition == 8, \"Сложение не работает\"\n",
        "assert subtraction == 6, \"Вычитание не работает\"\n",
        "assert multiplication == 12, \"Умножение не работает\"\n",
        "assert division == 5.0, \"Деление не работает\"\n",
        "assert floor_division == 5, \"Целочисленное деление не работает\"\n",
        "assert modulo == 1, \"Остаток от деления не работает\"\n",
        "assert exponent == 8, \"Возведение в степень не работает\"\n",
        "n += 1\n",
        "print(f\"Решено правильно {n} задач из 20\")"
      ],
      "metadata": {
        "id": "iG9Umi4_90vF",
        "colab": {
          "base_uri": "https://localhost:8080/"
        },
        "outputId": "36bd8a13-761c-4c1d-9cbf-f451c7d7e6b3"
      },
      "execution_count": null,
      "outputs": [
        {
          "output_type": "stream",
          "name": "stdout",
          "text": [
            "Решено правильно 7 задач из 20\n"
          ]
        }
      ]
    },
    {
      "cell_type": "code",
      "source": [
        "# 8. Продемонстрируйте работу приоритет операций с использованием скобок:\n",
        "#    Сложите 2 с результатом умножения 3 и 4.\n",
        "#    Затем сложите 2 и 3, умножив результат на 4.\n",
        "#    Программа должна создать две переменные: result1, result2\n",
        "\n",
        "result1 = 2 + 3 * 4\n",
        "result2 = (2 + 3) * 4\n",
        "\n",
        "assert result1 == 14, f\"Результат1: {result1}\"\n",
        "assert result2 == 20, f\"Результат2: {result2}\"\n",
        "n += 1\n",
        "print(f\"Решено правильно {n} задач из 20\")"
      ],
      "metadata": {
        "id": "v2u_cmi8-Xdv",
        "colab": {
          "base_uri": "https://localhost:8080/"
        },
        "outputId": "2cc27397-bccc-4be2-f70f-d205b165d51c"
      },
      "execution_count": null,
      "outputs": [
        {
          "output_type": "stream",
          "name": "stdout",
          "text": [
            "Решено правильно 8 задач из 20\n"
          ]
        }
      ]
    },
    {
      "cell_type": "markdown",
      "source": [
        "##### Типы данных"
      ],
      "metadata": {
        "id": "aCF2TUnR_aA2"
      }
    },
    {
      "cell_type": "code",
      "source": [
        "# 9. Определите типы следующих значений: 5, 3.14,\n",
        "#    \"text\", [1, 2, 3], True.\n",
        "#    Программа должна создать пять переменных:\n",
        "#    type_int, type_float, type_str, type_list, type_bool\n",
        "\n",
        "type_int = type(5)\n",
        "type_float = type(3.14)\n",
        "type_str = type(\"text\")\n",
        "type_list = type([1, 2, 3])\n",
        "type_bool = type(True)\n",
        "\n",
        "assert type_int == int, \"Целые числа не распознаны\"\n",
        "assert type_float == float, \"Дробные числа не распознаны\"\n",
        "assert type_str == str, \"Строки не распознаны\"\n",
        "assert type_list == list, \"Списки не распознаны\"\n",
        "assert type_bool == bool, \"Булевы значения не распознаны\"\n",
        "n += 1\n",
        "print(f\"Решено правильно {n} задач из 20\")"
      ],
      "metadata": {
        "id": "r2fZX55l-2lX",
        "colab": {
          "base_uri": "https://localhost:8080/"
        },
        "outputId": "9d999b45-5dff-4d9e-8c4a-75ff60e1d644"
      },
      "execution_count": null,
      "outputs": [
        {
          "output_type": "stream",
          "name": "stdout",
          "text": [
            "Решено правильно 9 задач из 20\n"
          ]
        }
      ]
    },
    {
      "cell_type": "code",
      "source": [
        "# 10. Преобразуйте значения между типами:\n",
        "#     \"5\" к виду целого числа, 123 к виду строки, \"3.14\" к\n",
        "#     виду числа с плавающей точкой.\n",
        "#     Программа должна создать три переменные:\n",
        "#     str_to_int, int_to_str, str_to_float\n",
        "\n",
        "str_to_int = int(\"5\")\n",
        "int_to_str = str(123)\n",
        "str_to_float = float(\"3.14\")\n",
        "\n",
        "assert str_to_int == 5, \"Преобразование строки в int не работает\"\n",
        "assert int_to_str == \"123\", \"Преобразование int в строку не работает\"\n",
        "assert str_to_float == 3.14, \"Преобразование строки в float не работает\"\n",
        "n += 1\n",
        "print(f\"Решено правильно {n} задач из 20\")"
      ],
      "metadata": {
        "id": "Fo_n0KN1_Ft-",
        "colab": {
          "base_uri": "https://localhost:8080/"
        },
        "outputId": "014171d8-7bb3-4a1d-e4e8-1e337e616655"
      },
      "execution_count": null,
      "outputs": [
        {
          "output_type": "stream",
          "name": "stdout",
          "text": [
            "Решено правильно 10 задач из 20\n"
          ]
        }
      ]
    },
    {
      "cell_type": "markdown",
      "source": [
        "##### Присваивание переменных"
      ],
      "metadata": {
        "id": "yUcdnV8m_i4t"
      }
    },
    {
      "cell_type": "code",
      "source": [
        "# 12. Измените значение переменной\n",
        "#     Создайте переменную y со значением 15.\n",
        "#     Программа должна изменить значение переменной x на 15\n",
        "#     путем перезаписи значения переменной\n",
        "\n",
        "x = 10\n",
        "x = 15\n",
        "\n",
        "assert x == 15, f\"x = {x}, ожидалось 15\"\n",
        "n += 1\n",
        "print(f\"Решено правильно {n} задач из 21\")"
      ],
      "metadata": {
        "id": "OZxKFMgZ_qnA",
        "colab": {
          "base_uri": "https://localhost:8080/"
        },
        "outputId": "07c925fe-e59b-4f76-eac7-c774285c4016"
      },
      "execution_count": null,
      "outputs": [
        {
          "output_type": "stream",
          "name": "stdout",
          "text": [
            "Решено правильно 11 задач из 21\n"
          ]
        }
      ]
    },
    {
      "cell_type": "code",
      "source": [
        "# 13. Создайте несколько переменных с числами 1, 2 и 3\n",
        "#     одной строкой кода.\n",
        "#     Программа должна создать три переменные: a, b, c\n",
        "\n",
        "a, b, c = 1, 2, 3\n",
        "\n",
        "assert a == 1 and b == 2 and c == 3, f\"a={a}, b={b}, c={c}\"\n",
        "n += 1\n",
        "print(f\"Решено правильно {n} задач из 21\")"
      ],
      "metadata": {
        "id": "46WarH___47A",
        "colab": {
          "base_uri": "https://localhost:8080/"
        },
        "outputId": "d19b83a5-9264-4abe-f33f-ebd7419f4216"
      },
      "execution_count": null,
      "outputs": [
        {
          "output_type": "stream",
          "name": "stdout",
          "text": [
            "Решено правильно 12 задач из 21\n"
          ]
        }
      ]
    },
    {
      "cell_type": "markdown",
      "source": [
        "##### Логические операции"
      ],
      "metadata": {
        "id": "a8kNscYD___I"
      }
    },
    {
      "cell_type": "code",
      "source": [
        "# 15. Используйте операторы сравнения\n",
        "#     Программа должна создать шесть переменных для проверки\n",
        "#     работы логических выражений на примере чисел 5 и 3:\n",
        "#     greater, less, equal, not_equal, greater_equal, less_equal\n",
        "\n",
        "greater = 5 > 3\n",
        "less = 5 < 3\n",
        "equal = 5 == 5\n",
        "not_equal = 5 != 3\n",
        "greater_equal = 5 >= 5\n",
        "less_equal = 3 <= 5\n",
        "\n",
        "assert greater == True, \"> не работает\"\n",
        "assert less == False, \"< не работает\"\n",
        "assert equal == True, \"== не работает\"\n",
        "assert not_equal == True, \"!= не работает\"\n",
        "assert greater_equal == True, \">= не работает\"\n",
        "assert less_equal == True, \"<= не работает\"\n",
        "n += 1\n",
        "print(f\"Решено правильно {n} задач из 20\")"
      ],
      "metadata": {
        "id": "MmNqlkt7AB-7",
        "colab": {
          "base_uri": "https://localhost:8080/"
        },
        "outputId": "8e6d4eeb-28ff-439c-edd1-1f609ae4c1d0"
      },
      "execution_count": null,
      "outputs": [
        {
          "output_type": "stream",
          "name": "stdout",
          "text": [
            "Решено правильно 13 задач из 20\n"
          ]
        }
      ]
    },
    {
      "cell_type": "code",
      "source": [
        "# 16. Создайте сложное логическое выражение\n",
        "#     Программа должна создать переменную can_drive (если пользователь старше 18)\n",
        "\n",
        "age = 25\n",
        "has_license = True\n",
        "\n",
        "can_drive = age >= 18 and has_license\n",
        "\n",
        "assert can_drive == True, f\"can_drive = {can_drive}\"\n",
        "n += 1\n",
        "print(f\"Решено правильно {n} задач из 20\")"
      ],
      "metadata": {
        "id": "oZVfTRf0Hh8g",
        "colab": {
          "base_uri": "https://localhost:8080/"
        },
        "outputId": "64569294-ae81-4cfb-92a2-beb13da94c2d"
      },
      "execution_count": null,
      "outputs": [
        {
          "output_type": "stream",
          "name": "stdout",
          "text": [
            "Решено правильно 14 задач из 20\n"
          ]
        }
      ]
    },
    {
      "cell_type": "markdown",
      "source": [
        "##### Индексация"
      ],
      "metadata": {
        "id": "Sdnrv8qqJRPX"
      }
    },
    {
      "cell_type": "code",
      "source": [
        "# 17. Индексация строк - получение первого, третьего и последнего символа слова по индексам\n",
        "#     Программа должна создать три переменные: first_char, third_char, last_char\n",
        "\n",
        "text = \"Python\"\n",
        "\n",
        "first_char = text[0]\n",
        "third_char = text[2]\n",
        "last_char = text[-1]\n",
        "\n",
        "assert first_char == \"P\", f\"first_char = '{first_char}', ожидалось 'P'\"\n",
        "assert third_char == \"t\", f\"third_char = '{third_char}', ожидалось 't'\"\n",
        "assert last_char == \"n\", f\"last_char = '{last_char}', ожидалось 'n'\"\n",
        "n += 1\n",
        "print(f\"Решено правильно {n} задач из 20\")"
      ],
      "metadata": {
        "id": "Z2jmExJJJTMb",
        "colab": {
          "base_uri": "https://localhost:8080/"
        },
        "outputId": "0693ace6-e1ef-4aa6-d402-7ad06eca73e5"
      },
      "execution_count": null,
      "outputs": [
        {
          "output_type": "stream",
          "name": "stdout",
          "text": [
            "Решено правильно 15 задач из 20\n"
          ]
        }
      ]
    },
    {
      "cell_type": "code",
      "source": [
        "# 18. Срезы строк - получение подстрок\n",
        "#     Программа должна создать три переменные:\n",
        "#     first_two (первые 2 символа), last_three (последние 3), middle (3 символа посередине: используйте отрицательное индексирование)\n",
        "\n",
        "text = \"Programming\"\n",
        "\n",
        "first_two = text[:2]\n",
        "last_three = text[-3:]\n",
        "middle = text[3:7]\n",
        "\n",
        "assert first_two == \"Pr\", f\"first_two = '{first_two}', ожидалось 'Pr'\"\n",
        "assert last_three == \"ing\", f\"last_three = '{last_three}', ожидалось 'ing'\"\n",
        "assert middle == \"gram\", f\"middle = '{middle}', ожидалось 'gram'\"\n",
        "n += 1\n",
        "print(f\"Решено правильно {n} задач из 20\")"
      ],
      "metadata": {
        "id": "crC5yyvDJdsa",
        "colab": {
          "base_uri": "https://localhost:8080/"
        },
        "outputId": "485355c8-2ede-4dfc-e879-70b1720818a3"
      },
      "execution_count": null,
      "outputs": [
        {
          "output_type": "stream",
          "name": "stdout",
          "text": [
            "Решено правильно 16 задач из 20\n"
          ]
        }
      ]
    },
    {
      "cell_type": "code",
      "source": [
        "# 19. Индексация списков - доступ к элементам\n",
        "#     Программа должна создать три переменные:\n",
        "#     first_item (первый элемент списка), last_item (последний элемент списка), middle_item (центральный элемент)\n",
        "\n",
        "fruits = [\"apple\", \"banana\", \"orange\", \"grape\", \"kiwi\"]\n",
        "\n",
        "first_item = fruits[0]\n",
        "last_item = fruits[-1]\n",
        "middle_item = fruits[2]\n",
        "\n",
        "assert first_item == \"apple\", f\"first_item = '{first_item}', ожидалось 'apple'\"\n",
        "assert last_item == \"kiwi\", f\"last_item = '{last_item}', ожидалось 'kiwi'\"\n",
        "assert middle_item == \"orange\", f\"middle_item = '{middle_item}', ожидалось 'orange'\"\n",
        "n += 1\n",
        "print(f\"Решено правильно {n} задач из 20\")"
      ],
      "metadata": {
        "id": "eeCZI9DqJvtQ",
        "colab": {
          "base_uri": "https://localhost:8080/"
        },
        "outputId": "d37f6f89-5e10-49e3-8703-ef50db841254"
      },
      "execution_count": null,
      "outputs": [
        {
          "output_type": "stream",
          "name": "stdout",
          "text": [
            "Решено правильно 17 задач из 20\n"
          ]
        }
      ]
    },
    {
      "cell_type": "code",
      "source": [
        "# 20. Срезы списков - получение подсписков\n",
        "#     Программа должна создать три переменные:\n",
        "#     first_three (последние три элемента), last_two (первые два), middle_three (три посредине)\n",
        "\n",
        "numbers = [10, 20, 30, 40, 50, 60, 70]\n",
        "\n",
        "first_three = numbers[:3]\n",
        "last_two = numbers[-2:]\n",
        "middle_three = numbers[2:5]\n",
        "\n",
        "assert first_three == [10, 20, 30], f\"first_three = {first_three}, ожидалось [10, 20, 30]\"\n",
        "assert last_two == [60, 70], f\"last_two = {last_two}, ожидалось [60, 70]\"\n",
        "assert middle_three == [30, 40, 50], f\"middle_three = {middle_three}, ожидалось [30, 40, 50]\"\n",
        "n += 1\n",
        "print(f\"Решено правильно {n} задач из 20\")"
      ],
      "metadata": {
        "id": "cX5orL6RJ6EF",
        "colab": {
          "base_uri": "https://localhost:8080/"
        },
        "outputId": "7ce60c68-764c-4cd7-9179-4f45b7240055"
      },
      "execution_count": null,
      "outputs": [
        {
          "output_type": "stream",
          "name": "stdout",
          "text": [
            "Решено правильно 18 задач из 20\n"
          ]
        }
      ]
    }
  ]
}