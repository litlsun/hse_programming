{
  "nbformat": 4,
  "nbformat_minor": 0,
  "metadata": {
    "colab": {
      "provenance": [],
      "include_colab_link": true
    },
    "kernelspec": {
      "name": "python3",
      "display_name": "Python 3"
    },
    "language_info": {
      "name": "python"
    }
  },
  "cells": [
    {
      "cell_type": "markdown",
      "metadata": {
        "id": "view-in-github",
        "colab_type": "text"
      },
      "source": [
        "<a href=\"https://colab.research.google.com/github/litlsun/hse_programming/blob/main/Third_workbook_cleaning%22.ipynb\" target=\"_parent\"><img src=\"https://colab.research.google.com/assets/colab-badge.svg\" alt=\"Open In Colab\"/></a>"
      ]
    },
    {
      "cell_type": "markdown",
      "source": [
        "**Data Cleaning** (чистка данных) - этап предварительной обработки данных для анализа данных и машинного обучения.\n",
        "\n",
        "**Примеры Data Cleaning:**\n",
        "- удаление избыточных столбцов из табличных данных;\n",
        "- приведение текста к нижнему регистру;\n",
        "- чистка текста от HTML-артефактов\n",
        "\n",
        "Загрузим тренировочный датасет, почистим его и проанализируем результаты."
      ],
      "metadata": {
        "id": "Vl6M3rDU5XhG"
      }
    },
    {
      "cell_type": "markdown",
      "source": [
        "# Задание 1: Загрузка данных\n",
        "\n",
        "Загрузим тренировочный датасет и посмотрим на наши данные.\n",
        "\n",
        "Представим, что мы загрузили статью в формате HTML.\n",
        "\n",
        "Скачаем ее и выведем на экран первые 100 символов с помощью слайсинга (среза)."
      ],
      "metadata": {
        "id": "LK_zsNv26Tsk"
      }
    },
    {
      "cell_type": "code",
      "source": [
        "# загружаем тренировочные данные\n",
        "!wget https://raw.githubusercontent.com/vifirsanova/hse-python-course/main/data/data_cleaning.txt"
      ],
      "metadata": {
        "colab": {
          "base_uri": "https://localhost:8080/"
        },
        "id": "tbak8zIx8i6_",
        "outputId": "d8e342ae-be51-41ad-ba8b-bdc9b352da6c"
      },
      "execution_count": null,
      "outputs": [
        {
          "output_type": "stream",
          "name": "stdout",
          "text": [
            "--2025-10-20 16:05:56--  https://raw.githubusercontent.com/vifirsanova/hse-python-course/main/data/data_cleaning.txt\n",
            "Resolving raw.githubusercontent.com (raw.githubusercontent.com)... 185.199.110.133, 185.199.109.133, 185.199.108.133, ...\n",
            "Connecting to raw.githubusercontent.com (raw.githubusercontent.com)|185.199.110.133|:443... connected.\n",
            "HTTP request sent, awaiting response... 200 OK\n",
            "Length: 2377 (2.3K) [text/plain]\n",
            "Saving to: ‘data_cleaning.txt’\n",
            "\n",
            "data_cleaning.txt   100%[===================>]   2.32K  --.-KB/s    in 0s      \n",
            "\n",
            "2025-10-20 16:05:57 (30.6 MB/s) - ‘data_cleaning.txt’ saved [2377/2377]\n",
            "\n"
          ]
        }
      ]
    },
    {
      "cell_type": "code",
      "source": [
        "# запишем данные в переменную data\n",
        "with open('data_cleaning.txt', 'r') as f:\n",
        "  data = f.read()"
      ],
      "metadata": {
        "id": "OJ68oc8E8r9P"
      },
      "execution_count": null,
      "outputs": []
    },
    {
      "cell_type": "code",
      "source": [
        "# выведите на экран первые 100 символов с помощью слайсинга\n",
        "\n",
        "print(data[:100])"
      ],
      "metadata": {
        "colab": {
          "base_uri": "https://localhost:8080/"
        },
        "id": "EZ9GtP8s86V8",
        "outputId": "3b8cc723-ca5c-4255-ad98-6c6ec6ea1723"
      },
      "execution_count": null,
      "outputs": [
        {
          "output_type": "stream",
          "name": "stdout",
          "text": [
            "<!DOCTYPE html>\n",
            "<html>\n",
            "<head>\n",
            "    <title>Sample HTML Document</title>\n",
            "</head>\n",
            "<body>\n",
            "    <h1>Welcome\n"
          ]
        }
      ]
    },
    {
      "cell_type": "markdown",
      "source": [
        "# Задание 2: Удаление артефактов\n",
        "\n",
        "В данных много артефактов - HTML-тегов.\n",
        "\n",
        "Удалим HTML-артефакты с помощью регулярных выражений RegEx"
      ],
      "metadata": {
        "id": "XIGQ9xGQ6t1U"
      }
    },
    {
      "cell_type": "code",
      "source": [
        "# пропишем паттерн для поиска HTML-тегов вида <tag> ... </tag>\n",
        "import re   # загрузим библиотеку для обработки регулярных выражений\n",
        "\n",
        "tag_pattern = r'<[^>]+>'    # паттерн для поиска тегов"
      ],
      "metadata": {
        "id": "aQ0ka1oq9uVz"
      },
      "execution_count": null,
      "outputs": []
    },
    {
      "cell_type": "markdown",
      "source": [
        "Используйте функцию `re.sub` (substitution) для чистки данных\n",
        "\n",
        "`re.sub` ищет в строке `string` соответствия RegEx-паттерну `pattern` и меняет найденное на указанную строку `repl`\n",
        "\n",
        "Как используем функцию: `re.sub(pattern, repl, string)`\n",
        "\n",
        "- `pattern` - паттерн RegEx, соответствия которому будет искать функция\n",
        "- `repl` - на что будем менять найденные соответствия\n",
        "- `string` - где будем искать, наш датасет\n",
        "\n",
        "Запишите результат в переменную `clean_text` и выведите на экран с 720-го по 800-ый символ очищенного текста\n",
        "\n",
        "Используйте слайсинг"
      ],
      "metadata": {
        "id": "h8oleHAo_UaY"
      }
    },
    {
      "cell_type": "code",
      "source": [
        "# Подсказки:\n",
        "# используйте паттерн, записанный в переменную tag_pattern\n",
        "# замените результат на пустую строку \"\"\n",
        "\n",
        "clean_text = re.sub(tag_pattern, \"\", data) # применяем re.sub\n",
        "print(clean_text[720:800]) #выводим результат с 720-го по 800-ый символ"
      ],
      "metadata": {
        "colab": {
          "base_uri": "https://localhost:8080/"
        },
        "id": "pzt6-qUtYbUj",
        "outputId": "b1ee3e5d-a26f-4977-c1fe-a44d48182d40"
      },
      "execution_count": null,
      "outputs": [
        {
          "output_type": "stream",
          "name": "stdout",
          "text": [
            " It's crucial to handle HTML entities such as &lt;div&gt;, &lt;p&gt;, &amp;, etc\n"
          ]
        }
      ]
    },
    {
      "cell_type": "markdown",
      "source": [
        "Мы удалили не все специальные символы HTML\n",
        "\n",
        "Создадим еще один паттерн и повторим процедуру"
      ],
      "metadata": {
        "id": "fZAWGBC7Ajr7"
      }
    },
    {
      "cell_type": "code",
      "source": [
        "symbols_pattern = r'&\\w+;'    # паттерн для поиска специальных символов"
      ],
      "metadata": {
        "id": "jIftruIgBuQj"
      },
      "execution_count": null,
      "outputs": []
    },
    {
      "cell_type": "markdown",
      "source": [
        "Используйте `re.sub` для удаления этих символов\n",
        "\n",
        "Теперь функция принимает на вход паттерн `symbols_pattern` и текст `clean_text`\n",
        "\n",
        "Перезапишите переменную `clean_text`\n",
        "\n",
        "Выведите на экран с 720-го по 800-ый символ, чтобы убедиться в том, что чистка прошла успешно"
      ],
      "metadata": {
        "id": "LJ19ehiFB5d6"
      }
    },
    {
      "cell_type": "code",
      "source": [
        "clean_text = re.sub(symbols_pattern, \"\", clean_text) # применяем re.sub\n",
        "print(clean_text[720:800]) #выводим результат с 720-го по 800-ый символ"
      ],
      "metadata": {
        "colab": {
          "base_uri": "https://localhost:8080/"
        },
        "id": "3GEjWhO_Zd0i",
        "outputId": "590a5eab-c03f-40d8-e5db-0f1806ffedbc"
      },
      "execution_count": null,
      "outputs": [
        {
          "output_type": "stream",
          "name": "stdout",
          "text": [
            " It's crucial to handle HTML entities such as div, p, , etc. HTML entities are s\n"
          ]
        }
      ]
    },
    {
      "cell_type": "markdown",
      "source": [
        "В нашем тексте остались двойные пробелы\n",
        "\n",
        "Уберем им с помощью очередного паттерна"
      ],
      "metadata": {
        "id": "mP70Rf3oCKNZ"
      }
    },
    {
      "cell_type": "code",
      "source": [
        "# выведите на экран первые 100 символов вашего текущего результата\n",
        "# на этот раз не используйте print\n",
        "clean_text[:100]"
      ],
      "metadata": {
        "colab": {
          "base_uri": "https://localhost:8080/",
          "height": 36
        },
        "id": "cEwEBTXPcA9j",
        "outputId": "24faf8c4-4080-4ea3-a179-fa55735721cf"
      },
      "execution_count": null,
      "outputs": [
        {
          "output_type": "execute_result",
          "data": {
            "text/plain": [
              "'\\n\\n\\n    Sample HTML Document\\n\\n\\n    Welcome to Data Cleaning\\n    This is a sample paragraph with HTML '"
            ],
            "application/vnd.google.colaboratory.intrinsic+json": {
              "type": "string"
            }
          },
          "metadata": {},
          "execution_count": 11
        }
      ]
    },
    {
      "cell_type": "markdown",
      "source": [
        "Создаем паттерн для поиска двойных пробелов\n",
        "\n",
        "Повторите процедуру, перезапишите результат в `clean_text` и выведите первые 100 символов\n",
        "\n",
        "Что мы запишем в переменную `repl`, чтобы не удалить абсолютно все пробелы?"
      ],
      "metadata": {
        "id": "GpgXBzMxDicX"
      }
    },
    {
      "cell_type": "code",
      "source": [
        "space_pattern = r'\\s+'\n",
        "clean_text = re.sub(space_pattern, \" \", clean_text) # применяем re.sub\n",
        "clean_text[:100] #выводим первые 100 символов без использования print"
      ],
      "metadata": {
        "colab": {
          "base_uri": "https://localhost:8080/",
          "height": 36
        },
        "id": "9lEyDoJCcbH3",
        "outputId": "652157dd-a904-4c2c-a4e2-aee9c1498061"
      },
      "execution_count": null,
      "outputs": [
        {
          "output_type": "execute_result",
          "data": {
            "text/plain": [
              "' Sample HTML Document Welcome to Data Cleaning This is a sample paragraph with HTML artifacts such a'"
            ],
            "application/vnd.google.colaboratory.intrinsic+json": {
              "type": "string"
            }
          },
          "metadata": {},
          "execution_count": 13
        }
      ]
    },
    {
      "cell_type": "markdown",
      "source": [
        "# Задание 3: Смена регистра\n",
        "\n",
        "Приведем все слова к нижнему регистру с помощью функции `lower`\n",
        "\n",
        "Запишем результат в переменную `text_lower` и выведем на экран последние 100 символов"
      ],
      "metadata": {
        "id": "Hwtj4l2x6bwS"
      }
    },
    {
      "cell_type": "code",
      "source": [
        "text_lower = clean_text.lower() # применяем lower к clean_text\n",
        "print(text_lower[-100:]) # выводим первые 100 символов с конца"
      ],
      "metadata": {
        "colab": {
          "base_uri": "https://localhost:8080/"
        },
        "id": "85lMZbeneIJe",
        "outputId": "2883594e-7ed0-4b9e-c62c-0799949860c0"
      },
      "execution_count": null,
      "outputs": [
        {
          "output_type": "stream",
          "name": "stdout",
          "text": [
            "e learning models, making predictions, or generating insights to support decision-making processes. \n"
          ]
        }
      ]
    },
    {
      "cell_type": "markdown",
      "source": [
        "# Задание 4: Удаление стоп-слов\n",
        "\n",
        "Удалим частотные слова, которые создают шум для решения задач\n",
        "\n",
        "Загрузим список стоп-слов"
      ],
      "metadata": {
        "id": "vkxdtN1Q6mwU"
      }
    },
    {
      "cell_type": "code",
      "source": [
        "!wget https://raw.githubusercontent.com/vifirsanova/hse-python-course/main/data/stopwords.txt"
      ],
      "metadata": {
        "colab": {
          "base_uri": "https://localhost:8080/"
        },
        "id": "8ypsKpKBE6T-",
        "outputId": "d4de99de-7331-4ce5-b9fa-59ef55e92398"
      },
      "execution_count": null,
      "outputs": [
        {
          "output_type": "stream",
          "name": "stdout",
          "text": [
            "--2025-10-20 16:38:46--  https://raw.githubusercontent.com/vifirsanova/hse-python-course/main/data/stopwords.txt\n",
            "Resolving raw.githubusercontent.com (raw.githubusercontent.com)... 185.199.109.133, 185.199.108.133, 185.199.111.133, ...\n",
            "Connecting to raw.githubusercontent.com (raw.githubusercontent.com)|185.199.109.133|:443... connected.\n",
            "HTTP request sent, awaiting response... 200 OK\n",
            "Length: 954 [text/plain]\n",
            "Saving to: ‘stopwords.txt’\n",
            "\n",
            "stopwords.txt       100%[===================>]     954  --.-KB/s    in 0s      \n",
            "\n",
            "2025-10-20 16:38:46 (35.7 MB/s) - ‘stopwords.txt’ saved [954/954]\n",
            "\n"
          ]
        }
      ]
    },
    {
      "cell_type": "code",
      "source": [
        "# запишем данные в переменную stopwords\n",
        "with open('stopwords.txt', 'r') as f:\n",
        "  stopwords = f.read().split()"
      ],
      "metadata": {
        "id": "_c1xfdkgFNcg"
      },
      "execution_count": null,
      "outputs": []
    },
    {
      "cell_type": "markdown",
      "source": [
        "Выведите на экран первые 10 стоп-слов"
      ],
      "metadata": {
        "id": "nansznnrFVN-"
      }
    },
    {
      "cell_type": "code",
      "source": [
        "stopwords[:10]"
      ],
      "metadata": {
        "colab": {
          "base_uri": "https://localhost:8080/"
        },
        "id": "Pctau5NgFYJG",
        "outputId": "8361eb35-7d97-4521-f720-c4b9330735f2"
      },
      "execution_count": null,
      "outputs": [
        {
          "output_type": "execute_result",
          "data": {
            "text/plain": [
              "['a', 'about', 'above', 'after', 'again', 'against', 'all', 'am', 'an', 'and']"
            ]
          },
          "metadata": {},
          "execution_count": 21
        }
      ]
    },
    {
      "cell_type": "markdown",
      "source": [
        "С помощью `random` мы можем \"вытянуть\" из списка стоп-слов случайное слово"
      ],
      "metadata": {
        "id": "7C4R5y63Fqrl"
      }
    },
    {
      "cell_type": "code",
      "source": [
        "import random\n",
        "random.choice(stopwords)"
      ],
      "metadata": {
        "colab": {
          "base_uri": "https://localhost:8080/",
          "height": 36
        },
        "id": "8SX-lcCAFjNc",
        "outputId": "08f6da4e-8170-409e-f012-518bdced7a3d"
      },
      "execution_count": null,
      "outputs": [
        {
          "output_type": "execute_result",
          "data": {
            "text/plain": [
              "'of'"
            ],
            "application/vnd.google.colaboratory.intrinsic+json": {
              "type": "string"
            }
          },
          "metadata": {},
          "execution_count": 23
        }
      ]
    },
    {
      "cell_type": "markdown",
      "source": [
        "\"Вытяните\" еще одно случайное слово и запишите его в переменную `random_word`"
      ],
      "metadata": {
        "id": "tPDPQYYTFwsM"
      }
    },
    {
      "cell_type": "code",
      "source": [
        "random_word = random.choice(stopwords)\n",
        "print(random_word)"
      ],
      "metadata": {
        "id": "oJkDb27LF75t",
        "colab": {
          "base_uri": "https://localhost:8080/"
        },
        "outputId": "3d9cf043-b032-461e-d00e-c41ec111b1d4"
      },
      "execution_count": null,
      "outputs": [
        {
          "output_type": "stream",
          "name": "stdout",
          "text": [
            "such\n"
          ]
        }
      ]
    },
    {
      "cell_type": "markdown",
      "source": [
        "Проверьте, есть ли это слово в `text_lower` с помощью `in`\n",
        "\n",
        "Выведите на экран это слово"
      ],
      "metadata": {
        "id": "erv_tjszGZlo"
      }
    },
    {
      "cell_type": "code",
      "source": [
        "### ваш код здесь: вывод на экран текста \"Результат проверки:\" и проверки с in ###\n",
        "### ваш код здесь: вывод текста \"Случайное слово:\" и random_word ###\n",
        "print(f'Результат проверки: {random_word in text_lower}\\nСлучайное слово:{random_word}')"
      ],
      "metadata": {
        "colab": {
          "base_uri": "https://localhost:8080/"
        },
        "id": "j2NJtaSOGBDT",
        "outputId": "6ca2f9f7-4329-48ab-fbba-00f63f0d0394"
      },
      "execution_count": null,
      "outputs": [
        {
          "output_type": "stream",
          "name": "stdout",
          "text": [
            "Результат проверки: False\n",
            "Случайное слово:mustn't\n"
          ]
        }
      ]
    },
    {
      "cell_type": "code",
      "source": [
        "print(f'Результат проверки: {random_word in text_lower}\\nСлучайное слово:{random_word}')"
      ],
      "metadata": {
        "colab": {
          "base_uri": "https://localhost:8080/"
        },
        "id": "uFx205bghUlQ",
        "outputId": "e2de5265-1b90-4f43-fc2c-c37c784b23f3"
      },
      "execution_count": null,
      "outputs": [
        {
          "output_type": "stream",
          "name": "stdout",
          "text": [
            "Результат проверки: True\n",
            "Случайное слово:such\n"
          ]
        }
      ]
    },
    {
      "cell_type": "markdown",
      "source": [
        "Попробуйте сгенерировать еще несколько слов и проверить их наличие в `text_lower`\n",
        "\n",
        "Для этого запустите повторно две последние ячейки"
      ],
      "metadata": {
        "id": "VBJJHLvrHCCO"
      }
    },
    {
      "cell_type": "code",
      "source": [
        "\"\"\"\n",
        "Вот так будет выглядеть текст после удаления стоп-слов _без_ токенизации\n",
        "Заменятся все аналогичные сочетания знаков\n",
        "Поэтому перед _удалением_ стоп-слов, проведем токенизацию\n",
        "\"\"\""
      ],
      "metadata": {
        "colab": {
          "base_uri": "https://localhost:8080/",
          "height": 105
        },
        "id": "gY7oeXTXGW0D",
        "outputId": "29a5fe30-9fd3-447b-9de7-5ed01589fdd4"
      },
      "execution_count": null,
      "outputs": [
        {
          "output_type": "execute_result",
          "data": {
            "text/plain": [
              "' s mple html  cu nt  lco    d t  cle n ng t   s   s mple p r gr ph w th html  rt f cts    s bold  nd  t l c text. d t  cle n ng  s  n essent  l process  n prep r ng d t     n lys s.  t  nvolves v r ous techn ques   cle n, tr ns m,  nd preprocess d t .  n d t  cle n ng,  t\\'s  mp t nt   remove s p w ds l ke \"t \", \" nd\", \" \", etc. s p w ds  re comm  w ds th t  re  ten f ltered     text d t   c use t y    t c rry s gn f c nt   n ng.  re\\'s   t r p r gr ph.   t  s text  s  n  perc se   lo rc se.  t\\'s  mp t nt   st nd rd ze t  text c se   ensure c s stency  n t  d t set. t  c n    ch eved   c vert ng  ll text   lo rc se    perc se.  t\\'s cruc  l   h ndle html ent t es    s d v, p, , etc. html ent t es  re spec  l ch r cters   symbols th t h ve spec f c   n ngs  n html. t y need     properly h ndled    vo d  ssues   d t  process ng. d t  cle n ng  l   nvolves de l ng w th m ss ng v lues. m ss ng v lues c n occur due   v r ous re s s    s  ncomplete d t  collect     d t  entry err s.  t\\'s essent  l    dent fy  nd h ndle m ss ng v lues  ppropr  tely    vo d b  s  n t   n lys s. text d t   ten c t  ns   se    s punctu t   m rks, spec  l ch r cters,  nd d g ts. remov ng   se   text d t   s necess ry   focus   t    n ngful c tent. techn ques    s regul r express  s c n   used     se remov l.   t r  mp t nt  spect   d t  cle n ng  s ded l c t  . d l c te rec ds  n   d t set c n skew  n lys s results  nd le d    n ccur te c clus  s.  dent fy ng  nd remov ng d l c te rec ds ensures d t   ntegr ty  nd  mproves t  qu l ty    n lys s.  fter cle n ng t  d t ,  t\\'s essent  l   per m expl  t y d t   n lys s (ed )   g  n  ns ghts  nd  dent fy p tterns. ed   nvolves v su l z ng d t , comput ng summ ry st t st cs,  nd expl  ng rel t  sh ps  t en v r  bles.  ce t  d t   s cle ned  nd  n lyzed,  t c n   used   v r ous purposes    s bu ld ng m ch ne le rn ng models, m k ng pred ct  s,   gener t ng  ns ghts   s p t dec s  -m k ng processes. '"
            ],
            "application/vnd.google.colaboratory.intrinsic+json": {
              "type": "string"
            }
          },
          "metadata": {},
          "execution_count": 91
        }
      ]
    },
    {
      "cell_type": "markdown",
      "source": [
        "# Задание 5: Токенизация\n",
        "\n",
        "Токенизируем датасет для дальнейшей работы\n",
        "\n",
        "Создадим 2 набора токенов: с сегментацией по предложениям и с сегментацией по словам"
      ],
      "metadata": {
        "id": "Mepvb0Kw7Ncq"
      }
    },
    {
      "cell_type": "markdown",
      "source": [
        "Создайте переменную `sentences`\n",
        "\n",
        "С помощью `split` разделите текст на предложения (сегменты, разделенные знаком `.`)\n",
        "\n",
        "Выведите на экран первые 10 элементов `sentences`"
      ],
      "metadata": {
        "id": "Me63a7SNLa6C"
      }
    },
    {
      "cell_type": "code",
      "source": [
        "sentences = text_lower.split('.') #разделяем текст на предложения (сегменты, разделенные точкой)\n",
        "sentences[:10]"
      ],
      "metadata": {
        "colab": {
          "base_uri": "https://localhost:8080/"
        },
        "id": "6XaflC1RiHEh",
        "outputId": "e27ccac4-3611-4d24-f659-6726921ddd3c"
      },
      "execution_count": null,
      "outputs": [
        {
          "output_type": "execute_result",
          "data": {
            "text/plain": [
              "[' sample html document welcome to data cleaning this is a sample paragraph with html artifacts such as bold and italic text',\n",
              " ' data cleaning is an essential process in preparing data for analysis',\n",
              " ' it involves various techniques to clean, transform, and preprocess data',\n",
              " ' in data cleaning, it\\'s important to remove stop words like \"the\", \"and\", \"of\", etc',\n",
              " ' stop words are common words that are often filtered out from text data because they do not carry significant meaning',\n",
              " \" here's another paragraph\",\n",
              " ' sometimes text is in uppercase or lowercase',\n",
              " \" it's important to standardize the text case to ensure consistency in the dataset\",\n",
              " ' this can be achieved by converting all text to lowercase or uppercase',\n",
              " \" it's crucial to handle html entities such as div, p, , etc\"]"
            ]
          },
          "metadata": {},
          "execution_count": 67
        }
      ]
    },
    {
      "cell_type": "markdown",
      "source": [
        "Создайте переменную `tokens`\n",
        "\n",
        "С помощью `split` разделите текст `text_lower` на слова\n",
        "\n",
        "Выведите первые 10 элементов"
      ],
      "metadata": {
        "id": "6J_C8cq0L2rB"
      }
    },
    {
      "cell_type": "code",
      "source": [
        "tokens = text_lower.split() # split для сегментации по пробелу\n",
        "print(tokens[:10])"
      ],
      "metadata": {
        "colab": {
          "base_uri": "https://localhost:8080/"
        },
        "id": "9G2328ryi1nH",
        "outputId": "ff69a69f-5ba5-4c2d-83be-17ab33c1ef5e"
      },
      "execution_count": null,
      "outputs": [
        {
          "output_type": "stream",
          "name": "stdout",
          "text": [
            "['sample', 'html', 'document', 'welcome', 'to', 'data', 'cleaning', 'this', 'is', 'a']\n"
          ]
        }
      ]
    },
    {
      "cell_type": "markdown",
      "source": [
        " Удалим стоп-слова"
      ],
      "metadata": {
        "id": "5Q7FfNK9MJ_K"
      }
    },
    {
      "cell_type": "code",
      "source": [
        "clean_tokens = []\n",
        "\n",
        "for token in tokens:  # итерация по списку токенов tokens\n",
        "  if token not in stopwords:  # проверяем отсутствие токена в списке стоп-слов\n",
        "    clean_tokens.append(token)  # добавляем токен в новый очищенный список токенов, если его нет в стоп-словах\n",
        "print(clean_tokens[:10])"
      ],
      "metadata": {
        "colab": {
          "base_uri": "https://localhost:8080/"
        },
        "id": "QMy-_DNJ0HF3",
        "outputId": "afd05598-ffb3-41e0-fb72-505056e237b8"
      },
      "execution_count": null,
      "outputs": [
        {
          "output_type": "stream",
          "name": "stdout",
          "text": [
            "['sample', 'html', 'document', 'welcome', 'data', 'cleaning', 'sample', 'paragraph', 'html', 'artifacts']\n"
          ]
        }
      ]
    },
    {
      "cell_type": "markdown",
      "source": [
        "# И еще одно задание...\n",
        "\n",
        "В ячейке ниже вы сможете загрузить еще один текст\n",
        "\n",
        "Используйте свой код и код из задания, чтобы\n",
        "\n",
        "1. удалить артефакты (html-теги, специальные символы и двойные пробелы)\n",
        "\n",
        "2. привести текст к нижнему регистру\n",
        "\n",
        "3. токенизировать текст по предложениям\n",
        "\n",
        "4. токенизировать текст по словам\n",
        "\n",
        "5. удалить стоп-слова"
      ],
      "metadata": {
        "id": "0EYfMpHZNUkA"
      }
    },
    {
      "cell_type": "code",
      "source": [
        "!wget https://raw.githubusercontent.com/vifirsanova/hse-python-course/main/extracurricular/artefacts.txt"
      ],
      "metadata": {
        "colab": {
          "base_uri": "https://localhost:8080/"
        },
        "id": "qE6b-OKsNqK_",
        "outputId": "63f29c14-3aef-4dbd-fccc-a4b2a155a6ea"
      },
      "execution_count": null,
      "outputs": [
        {
          "output_type": "stream",
          "name": "stdout",
          "text": [
            "--2025-10-20 16:57:22--  https://raw.githubusercontent.com/vifirsanova/hse-python-course/main/extracurricular/artefacts.txt\n",
            "Resolving raw.githubusercontent.com (raw.githubusercontent.com)... 185.199.109.133, 185.199.108.133, 185.199.111.133, ...\n",
            "Connecting to raw.githubusercontent.com (raw.githubusercontent.com)|185.199.109.133|:443... connected.\n",
            "HTTP request sent, awaiting response... 200 OK\n",
            "Length: 845 [text/plain]\n",
            "Saving to: ‘artefacts.txt’\n",
            "\n",
            "artefacts.txt       100%[===================>]     845  --.-KB/s    in 0s      \n",
            "\n",
            "2025-10-20 16:57:23 (24.6 MB/s) - ‘artefacts.txt’ saved [845/845]\n",
            "\n"
          ]
        }
      ]
    },
    {
      "cell_type": "code",
      "source": [
        "# запишем данные в переменную artefacts\n",
        "with open('artefacts.txt', 'r') as f:\n",
        "  artefacts = f.read()\n",
        "print(artefacts[:100])"
      ],
      "metadata": {
        "id": "CT7eVLpHOMTQ",
        "colab": {
          "base_uri": "https://localhost:8080/"
        },
        "outputId": "353c16ec-8e70-4fb8-f85a-75b8f9df85f3"
      },
      "execution_count": 86,
      "outputs": [
        {
          "output_type": "stream",
          "name": "stdout",
          "text": [
            "<!DOCTYPE html>\n",
            "<html>\n",
            "<head>\n",
            "    <title>Sample Web Page</title>\n",
            "</head>\n",
            "<body>\n",
            "    <h1>Welcome to O\n"
          ]
        }
      ]
    },
    {
      "cell_type": "markdown",
      "source": [
        "1. Удаление артефактов (html-теги, специальные символы и двойные пробелы)"
      ],
      "metadata": {
        "id": "ymWhitDpnz79"
      }
    },
    {
      "cell_type": "code",
      "source": [
        "tag_pattern = r'<[^>]+>' # Удаляем HTML-теги\n",
        "clean_text = re.sub(tag_pattern, \"\", artefacts)\n",
        "print(clean_text[100:400])"
      ],
      "metadata": {
        "id": "9g-geUOsORlM",
        "colab": {
          "base_uri": "https://localhost:8080/"
        },
        "outputId": "ce27afeb-7505-4c24-94c5-1e488faf0798"
      },
      "execution_count": 87,
      "outputs": [
        {
          "output_type": "stream",
          "name": "stdout",
          "text": [
            " can contact us at info@example.com.\n",
            "\n",
            "    Latest News\n",
            "    \n",
            "        Breaking News: Important Announcement\n",
            "        Lorem ipsum dolor sit amet, consectetur adipiscing elit. Vivamus lacinia, arcu in fermentum tincidunt.\n",
            "    \n",
            "\n",
            "    \n",
            "        &copy; 2023 Our Website. All rights reserved. | Privacy Policy | \n"
          ]
        }
      ]
    },
    {
      "cell_type": "code",
      "source": [
        "symbols_pattern = r'&\\w+;' # удаляем специальные символы\n",
        "clean_text = re.sub(symbols_pattern, \"\", clean_text)\n",
        "print(clean_text[100:400])"
      ],
      "metadata": {
        "colab": {
          "base_uri": "https://localhost:8080/"
        },
        "id": "r_iTmhS4lpoB",
        "outputId": "a696868b-27e3-4514-9000-66c4472654aa"
      },
      "execution_count": 88,
      "outputs": [
        {
          "output_type": "stream",
          "name": "stdout",
          "text": [
            " can contact us at info@example.com.\n",
            "\n",
            "    Latest News\n",
            "    \n",
            "        Breaking News: Important Announcement\n",
            "        Lorem ipsum dolor sit amet, consectetur adipiscing elit. Vivamus lacinia, arcu in fermentum tincidunt.\n",
            "    \n",
            "\n",
            "    \n",
            "         2023 Our Website. All rights reserved. | Privacy Policy | Contac\n"
          ]
        }
      ]
    },
    {
      "cell_type": "code",
      "source": [
        "space_pattern = r'\\s+' # удаляем двойные пробелы\n",
        "clean_text = re.sub(space_pattern, \" \", clean_text)\n",
        "print(clean_text[100:400])"
      ],
      "metadata": {
        "colab": {
          "base_uri": "https://localhost:8080/"
        },
        "id": "tMjI7VArnW4v",
        "outputId": "03122b9b-3b6a-4307-8c22-b096541460da"
      },
      "execution_count": 89,
      "outputs": [
        {
          "output_type": "stream",
          "name": "stdout",
          "text": [
            "at info@example.com. Latest News Breaking News: Important Announcement Lorem ipsum dolor sit amet, consectetur adipiscing elit. Vivamus lacinia, arcu in fermentum tincidunt. 2023 Our Website. All rights reserved. | Privacy Policy | Contact Us console.log('This is some JavaScript content that runs in\n"
          ]
        }
      ]
    },
    {
      "cell_type": "markdown",
      "source": [
        "2. Приведение текста к нижнему регистру"
      ],
      "metadata": {
        "id": "UMb072Kmn6XV"
      }
    },
    {
      "cell_type": "code",
      "source": [
        "text_lower = clean_text.lower()\n",
        "print(text_lower[100:400])"
      ],
      "metadata": {
        "colab": {
          "base_uri": "https://localhost:8080/"
        },
        "id": "TXLkgim6n-ko",
        "outputId": "b7319530-d4ae-4fe4-92b2-9ba0f41c23d0"
      },
      "execution_count": 94,
      "outputs": [
        {
          "output_type": "stream",
          "name": "stdout",
          "text": [
            "at info@example.com. latest news breaking news: important announcement lorem ipsum dolor sit amet, consectetur adipiscing elit. vivamus lacinia, arcu in fermentum tincidunt. 2023 our website. all rights reserved. | privacy policy | contact us console.log('this is some javascript content that runs in\n"
          ]
        }
      ]
    },
    {
      "cell_type": "markdown",
      "source": [
        "3. Токенизация текста по предложениям"
      ],
      "metadata": {
        "id": "gzeenr5uo2Zt"
      }
    },
    {
      "cell_type": "code",
      "source": [
        "sentences = text_lower.split('.')\n",
        "sentences[-5:]"
      ],
      "metadata": {
        "colab": {
          "base_uri": "https://localhost:8080/"
        },
        "id": "L6ajIt71o1oP",
        "outputId": "4afc9d32-02d9-4652-f535-561d3d9a89fc"
      },
      "execution_count": 97,
      "outputs": [
        {
          "output_type": "execute_result",
          "data": {
            "text/plain": [
              "[' 2023 our website',\n",
              " ' all rights reserved',\n",
              " ' | privacy policy | contact us console',\n",
              " \"log('this is some javascript content that runs in the browser\",\n",
              " \"'); \"]"
            ]
          },
          "metadata": {},
          "execution_count": 97
        }
      ]
    },
    {
      "cell_type": "markdown",
      "source": [
        "4. Токенизация текста по словам"
      ],
      "metadata": {
        "id": "zNazAxYBsIOw"
      }
    },
    {
      "cell_type": "code",
      "source": [
        "tokens = text_lower.split()\n",
        "print(tokens[:10])"
      ],
      "metadata": {
        "colab": {
          "base_uri": "https://localhost:8080/"
        },
        "id": "HuZdoSTGsMNQ",
        "outputId": "3c1c3fd2-a060-4024-988c-c4f18f2a1997"
      },
      "execution_count": 98,
      "outputs": [
        {
          "output_type": "stream",
          "name": "stdout",
          "text": [
            "['sample', 'web', 'page', 'welcome', 'to', 'our', 'website', 'this', 'is', 'some']\n"
          ]
        }
      ]
    },
    {
      "cell_type": "markdown",
      "source": [
        "5. Удаление стоп-слов"
      ],
      "metadata": {
        "id": "oFPF30D0sbrt"
      }
    },
    {
      "cell_type": "code",
      "source": [
        "!wget https://raw.githubusercontent.com/vifirsanova/hse-python-course/main/data/stopwords.txt"
      ],
      "metadata": {
        "colab": {
          "base_uri": "https://localhost:8080/"
        },
        "id": "PiIFyXuVsh2l",
        "outputId": "5433bd81-c7c9-423e-d711-15ab732cfa02"
      },
      "execution_count": 99,
      "outputs": [
        {
          "output_type": "stream",
          "name": "stdout",
          "text": [
            "--2025-10-20 17:37:33--  https://raw.githubusercontent.com/vifirsanova/hse-python-course/main/data/stopwords.txt\n",
            "Resolving raw.githubusercontent.com (raw.githubusercontent.com)... 185.199.111.133, 185.199.110.133, 185.199.108.133, ...\n",
            "Connecting to raw.githubusercontent.com (raw.githubusercontent.com)|185.199.111.133|:443... connected.\n",
            "HTTP request sent, awaiting response... 200 OK\n",
            "Length: 954 [text/plain]\n",
            "Saving to: ‘stopwords.txt.1’\n",
            "\n",
            "stopwords.txt.1     100%[===================>]     954  --.-KB/s    in 0s      \n",
            "\n",
            "2025-10-20 17:37:33 (26.5 MB/s) - ‘stopwords.txt.1’ saved [954/954]\n",
            "\n"
          ]
        }
      ]
    },
    {
      "cell_type": "code",
      "source": [
        "with open('stopwords.txt', 'r') as f:\n",
        "  stopwords = f.read().split()\n",
        "clean_tokens = []\n",
        "\n",
        "for token in tokens:  # итерация по списку токенов tokens\n",
        "  if token not in stopwords:  # проверяем отсутствие токена в списке стоп-слов\n",
        "    clean_tokens.append(token)  # добавляем токен в новый очищенный список токенов, если его нет в стоп-словах\n",
        "print(clean_tokens[:10])"
      ],
      "metadata": {
        "colab": {
          "base_uri": "https://localhost:8080/"
        },
        "id": "qj4UsdvNsrzQ",
        "outputId": "dd59e4bd-b997-4a59-b7ed-d219e75755cb"
      },
      "execution_count": 100,
      "outputs": [
        {
          "output_type": "stream",
          "name": "stdout",
          "text": [
            "['sample', 'web', 'page', 'welcome', 'website', 'sample', 'text', 'website.', 'can', 'contact']\n"
          ]
        }
      ]
    }
  ]
}