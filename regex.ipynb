{
  "nbformat": 4,
  "nbformat_minor": 0,
  "metadata": {
    "colab": {
      "provenance": [],
      "authorship_tag": "ABX9TyOedhcu7Bei+QXF4cTR5wnn",
      "include_colab_link": true
    },
    "kernelspec": {
      "name": "python3",
      "display_name": "Python 3"
    },
    "language_info": {
      "name": "python"
    }
  },
  "cells": [
    {
      "cell_type": "markdown",
      "metadata": {
        "id": "view-in-github",
        "colab_type": "text"
      },
      "source": [
        "<a href=\"https://colab.research.google.com/github/litlsun/hse_programming/blob/main/regex.ipynb\" target=\"_parent\"><img src=\"https://colab.research.google.com/assets/colab-badge.svg\" alt=\"Open In Colab\"/></a>"
      ]
    },
    {
      "cell_type": "code",
      "source": [
        "# Задачи на регулярные выражения\n",
        "import re"
      ],
      "metadata": {
        "id": "nGNyAP8-xF-9"
      },
      "execution_count": 1,
      "outputs": []
    },
    {
      "cell_type": "code",
      "source": [
        "# Задача 1: Найти все цены с валютами (руб, $, евро, ₽)\n",
        "# Ожидаемый результат: ['100 руб', '$50', '75.50 евро', '200₽']\n",
        "\n",
        "text = \"Цены: 100 руб, $50, 75.50 евро, 200₽, 300\"\n",
        "pattern = r'\\d+\\.?\\d*\\s*(?:руб|евро)|\\$(?:\\d+\\.?\\d*)|\\d+\\.?\\d*₽'\n",
        "result = re.findall(pattern, text)\n",
        "\n",
        "print(result)"
      ],
      "metadata": {
        "colab": {
          "base_uri": "https://localhost:8080/"
        },
        "id": "F_5Z8w4VwpZv",
        "outputId": "8c83903a-94a0-455b-8388-acf9aa2ecfcb"
      },
      "execution_count": 3,
      "outputs": [
        {
          "output_type": "stream",
          "name": "stdout",
          "text": [
            "['100 руб', '$50', '75.50 евро', '200₽']\n"
          ]
        }
      ]
    },
    {
      "cell_type": "code",
      "source": [
        "# Задача 2: Удалить все HTML-теги, оставив только текст\n",
        "# Ожидаемый результат: \"Текст жирный и курсивный\"\n",
        "\n",
        "html = \"<div>Текст <b>жирный</b> и <i>курсивный</i></div>\"\n",
        "result = re.sub(r'<[^>]+>', '', html)\n",
        "print(result)"
      ],
      "metadata": {
        "colab": {
          "base_uri": "https://localhost:8080/"
        },
        "id": "Mv0Bm2YFxYCi",
        "outputId": "889c419a-b436-4484-80e8-1772d0ce6fa9"
      },
      "execution_count": 5,
      "outputs": [
        {
          "output_type": "stream",
          "name": "stdout",
          "text": [
            "Текст жирный и курсивный\n"
          ]
        }
      ]
    },
    {
      "cell_type": "code",
      "source": [
        "# Задача 3: Найти все номера версий (числа с точками)\n",
        "# Ожидаемый результат: ['3.9', '17.0.1', '18.15.0', '1.2.3.4']\n",
        "\n",
        "text = \"Версии: Python 3.9, Java 17.0.1, Node.js v18.15.0, проект v1.2.3.4\"\n",
        "pattern = r'\\b(?:v?)(\\d+(?:\\.\\d+)+)\\b'\n",
        "result = re.findall(pattern, text)\n",
        "print(result)"
      ],
      "metadata": {
        "colab": {
          "base_uri": "https://localhost:8080/"
        },
        "id": "62XM3s6ry4tZ",
        "outputId": "b52896ab-a4dc-4bf3-b0b1-02de4becd191"
      },
      "execution_count": 7,
      "outputs": [
        {
          "output_type": "stream",
          "name": "stdout",
          "text": [
            "['3.9', '17.0.1', '18.15.0', '1.2.3.4']\n"
          ]
        }
      ]
    },
    {
      "cell_type": "code",
      "source": [
        "# Задача 4:\n",
        "# 1. Найти email и телефон\n",
        "# 2. Найти номер заказа (#12345)\n",
        "# 3. Найти цену (1,500.50 руб)\n",
        "# 4. Найти версию заказа (v2.1.5)\n",
        "\n",
        "complex_text = \"\"\"\n",
        "Клиент Иван Иванов (ivan@mail.com, +7-912-345-67-89)\n",
        "заказал товар #12345 за 1,500.50 руб.\n",
        "Статус: ВЫПОЛНЕНО. Версия заказа v2.1.5.\n",
        "Сайт: https://store.com/order/12345\n",
        "\"\"\"\n",
        "\n",
        "# 1. Email и телефон\n",
        "email_phone = re.findall(r'\\b[\\w\\.-]+@[\\w\\.-]+\\.\\w+\\b|\\+\\d+-\\d{3}-\\d{3}-\\d{2}-\\d{2}', complex_text)\n",
        "\n",
        "# 2. Номер заказа\n",
        "order_number = re.findall(r'#\\d+', complex_text)\n",
        "\n",
        "# 3. Цена\n",
        "price = re.findall(r'\\b\\d{1,3}(?:,\\d{3})*\\.?\\d*\\s*руб', complex_text)\n",
        "\n",
        "# 4. Версия заказа\n",
        "version = re.findall(r'v\\d+(?:\\.\\d+)+', complex_text)\n",
        "\n",
        "print(\"1. Email и телефон:\", ', '.join(email_phone))\n",
        "print(\"2. Номер заказа:\", order_number[0])\n",
        "print(\"3. Цена:\", price[0])\n",
        "print(\"4. Версия заказа:\", version[0])"
      ],
      "metadata": {
        "colab": {
          "base_uri": "https://localhost:8080/"
        },
        "id": "km97-iWT0FJ9",
        "outputId": "f979b9f8-ea34-4cc5-eaa6-6b65070fe020"
      },
      "execution_count": 11,
      "outputs": [
        {
          "output_type": "stream",
          "name": "stdout",
          "text": [
            "1. Email и телефон: ivan@mail.com, +7-912-345-67-89\n",
            "2. Номер заказа: #12345\n",
            "3. Цена: 1,500.50 руб\n",
            "4. Версия заказа: v2.1.5\n"
          ]
        }
      ]
    }
  ]
}