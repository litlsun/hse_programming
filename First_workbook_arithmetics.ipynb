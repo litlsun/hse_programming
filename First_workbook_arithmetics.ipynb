{
  "cells": [
    {
      "cell_type": "markdown",
      "metadata": {
        "id": "view-in-github",
        "colab_type": "text"
      },
      "source": [
        "<a href=\"https://colab.research.google.com/github/litlsun/hse_programming/blob/main/First_workbook_arithmetics.ipynb\" target=\"_parent\"><img src=\"https://colab.research.google.com/assets/colab-badge.svg\" alt=\"Open In Colab\"/></a>"
      ]
    },
    {
      "cell_type": "markdown",
      "metadata": {
        "id": "LKJXB1rGMi22"
      },
      "source": [
        "(c) В.И. Фирсанова | 2025"
      ]
    },
    {
      "cell_type": "markdown",
      "metadata": {
        "id": "fQaRb4FdiZXL"
      },
      "source": [
        "# Арифметические операции в Python\n",
        "\n",
        "1. **Сложение (+)**:\n",
        "   - `3 + 5` возвращает `8`\n",
        "\n",
        "2. **Вычитание (-)**:\n",
        "   - `10 - 4` возвращает `6`\n",
        "\n",
        "3. **Умножение (*)**:\n",
        "   - `2 * 6` возвращает `12`\n",
        "\n",
        "4. **Деление (/)**:\n",
        "   - `15 / 3` возвращает `5.0` (число с плавающей точкой)\n",
        "\n",
        "5. **Целочисленное деление (//)**:\n",
        "   - `15 // 4` возвращает `3` (целое число)\n",
        "\n",
        "6. **Остаток от деления (%)**:\n",
        "   - `15 % 4` возвращает `3`\n",
        "\n",
        "7. **Возведение в степень (**** **либо (pow())**:\n",
        "   - `2 ** 3` или `pow(2, 3)` возвращает `8`\n",
        "\n",
        "8. **Модуль (abs())**:\n",
        "   - `abs(-10)` возвращает `10`\n",
        "\n",
        "10. **Округление (round())**:\n",
        "    - `round(4.6)` возвращает `5`\n",
        "    - `round(4.65, 1)` возвращает `4.7` (1 знак после запятой)\n",
        "\n",
        "**Порядок арифметических операций в Python:**\n",
        "\n",
        "1. Скобки\n",
        "2. Возведение в степень, корень числа\n",
        "3. Умножение и деление слева-направо\n",
        "4. Сложение и вычитание слева-направо"
      ]
    },
    {
      "cell_type": "code",
      "execution_count": 1,
      "metadata": {
        "id": "l6Dwn2cDj_N9",
        "colab": {
          "base_uri": "https://localhost:8080/"
        },
        "outputId": "055d411e-00b3-4eb3-b6ac-7a343b606a89"
      },
      "outputs": [
        {
          "output_type": "stream",
          "name": "stdout",
          "text": [
            "30\n"
          ]
        }
      ],
      "source": [
        "num1 = 10\n",
        "num2 = 20\n",
        "\n",
        "# Напишите код для сложения 2-х чисел\n",
        "\n",
        "result = num1 + num2\n",
        "\n",
        "print(result)"
      ]
    },
    {
      "cell_type": "code",
      "execution_count": 3,
      "metadata": {
        "id": "0eRzO5hMkdIc",
        "colab": {
          "base_uri": "https://localhost:8080/"
        },
        "outputId": "170aab0c-2676-45c4-d149-97c00b65a321"
      },
      "outputs": [
        {
          "output_type": "stream",
          "name": "stdout",
          "text": [
            "-10\n"
          ]
        }
      ],
      "source": [
        "num1 = 10\n",
        "num2 = 20\n",
        "\n",
        "# Напишите код для вычитания 2-х чисел\n",
        "\n",
        "result = num1 - num2\n",
        "\n",
        "print(result)"
      ]
    },
    {
      "cell_type": "code",
      "execution_count": 4,
      "metadata": {
        "id": "ZyueEtLqkinp",
        "colab": {
          "base_uri": "https://localhost:8080/"
        },
        "outputId": "5d9b05e1-4e24-48ca-a932-5b556c1a0dd3"
      },
      "outputs": [
        {
          "output_type": "stream",
          "name": "stdout",
          "text": [
            "200\n"
          ]
        }
      ],
      "source": [
        "num1 = 10\n",
        "num2 = 20\n",
        "\n",
        "# Напишите код для умножения 2-х чисел\n",
        "\n",
        "result = num1 * num2\n",
        "\n",
        "print(result)"
      ]
    },
    {
      "cell_type": "code",
      "execution_count": 5,
      "metadata": {
        "id": "6s-US4aVkj93",
        "colab": {
          "base_uri": "https://localhost:8080/"
        },
        "outputId": "5dc8e62c-4035-477d-e9c0-0f362f8b6320"
      },
      "outputs": [
        {
          "output_type": "stream",
          "name": "stdout",
          "text": [
            "0.5\n"
          ]
        }
      ],
      "source": [
        "num1 = 10\n",
        "num2 = 20\n",
        "\n",
        "# Напишите код для деления 2-х чисел\n",
        "\n",
        "result = num1 / num2\n",
        "\n",
        "print(result)"
      ]
    },
    {
      "cell_type": "code",
      "execution_count": 6,
      "metadata": {
        "id": "53S7Bayskqiv",
        "colab": {
          "base_uri": "https://localhost:8080/"
        },
        "outputId": "b5c3f7f7-d315-4777-fbf3-be62d9c413ca"
      },
      "outputs": [
        {
          "output_type": "stream",
          "name": "stdout",
          "text": [
            "Hello, World!\n"
          ]
        }
      ],
      "source": [
        "str1 = \"Hello, \"\n",
        "str2 = \"World!\"\n",
        "\n",
        "# Напишите код для сложения 2-х строк, что получилось?\n",
        "\n",
        "result = str1 + str2 # В переменную записываются строковые данные двух указанных переменных в той последовательности, в которой они указываются в коде. Так, текст из двух переменных \"склеивается\" в единое предложение.\n",
        "print(result)"
      ]
    },
    {
      "cell_type": "code",
      "execution_count": 7,
      "metadata": {
        "id": "IWmTrByfk0Ok",
        "colab": {
          "base_uri": "https://localhost:8080/",
          "height": 193
        },
        "outputId": "aba6b83e-665c-4c8c-b048-e7290b14831f"
      },
      "outputs": [
        {
          "output_type": "error",
          "ename": "TypeError",
          "evalue": "can only concatenate str (not \"int\") to str",
          "traceback": [
            "\u001b[0;31m---------------------------------------------------------------------------\u001b[0m",
            "\u001b[0;31mTypeError\u001b[0m                                 Traceback (most recent call last)",
            "\u001b[0;32m/tmp/ipython-input-471965471.py\u001b[0m in \u001b[0;36m<cell line: 0>\u001b[0;34m()\u001b[0m\n\u001b[1;32m      4\u001b[0m \u001b[0;31m# Напишите код для сложения строки и числа, чем это все закончилось?\u001b[0m\u001b[0;34m\u001b[0m\u001b[0;34m\u001b[0m\u001b[0m\n\u001b[1;32m      5\u001b[0m \u001b[0;34m\u001b[0m\u001b[0m\n\u001b[0;32m----> 6\u001b[0;31m \u001b[0mresult\u001b[0m \u001b[0;34m=\u001b[0m \u001b[0mstr1\u001b[0m \u001b[0;34m+\u001b[0m \u001b[0mnum1\u001b[0m\u001b[0;34m\u001b[0m\u001b[0;34m\u001b[0m\u001b[0m\n\u001b[0m\u001b[1;32m      7\u001b[0m \u001b[0mprint\u001b[0m\u001b[0;34m(\u001b[0m\u001b[0mresult\u001b[0m\u001b[0;34m)\u001b[0m\u001b[0;34m\u001b[0m\u001b[0;34m\u001b[0m\u001b[0m\n",
            "\u001b[0;31mTypeError\u001b[0m: can only concatenate str (not \"int\") to str"
          ]
        }
      ],
      "source": [
        "str1 = \"Hello, \"\n",
        "num1 = 10\n",
        "\n",
        "# Напишите код для сложения строки и числа, чем это все закончилось?\n",
        "\n",
        "result = str1 + num1 # Выводится TypeError\n",
        "print(result)"
      ]
    },
    {
      "cell_type": "code",
      "execution_count": 8,
      "metadata": {
        "id": "MTUyA3jUlJBL",
        "colab": {
          "base_uri": "https://localhost:8080/"
        },
        "outputId": "c1f83b92-1a11-450d-9de4-dd2683a52248"
      },
      "outputs": [
        {
          "output_type": "stream",
          "name": "stdout",
          "text": [
            "Hello, 10\n"
          ]
        }
      ],
      "source": [
        "str1 = \"Hello, \"\n",
        "num1 = \"10\"\n",
        "\n",
        "# Напишите код для сложения строки и числа еще раз, что получилось?\n",
        "\n",
        "result = str1 + num1 # В данном случае программа распознает число как строковые данные, так как оно записано в кавычках. Следовательно, при сложении происходит обычное \"склеивание\" двух строк.\n",
        "\n",
        "print(result)"
      ]
    },
    {
      "cell_type": "markdown",
      "metadata": {
        "id": "pQk4nII6lYHC"
      },
      "source": [
        "Сложение двух строк называется **конкатенацией**. В Python можно конкатенировать только 2 одинаковых типа данных, например, числа и числа, строки и строки, матрицы и матрицы и т.д."
      ]
    },
    {
      "cell_type": "code",
      "execution_count": 9,
      "metadata": {
        "id": "xbPvx4Dslnhp",
        "colab": {
          "base_uri": "https://localhost:8080/"
        },
        "outputId": "414b69fd-66f1-4115-8e42-217641c0de68"
      },
      "outputs": [
        {
          "output_type": "stream",
          "name": "stdout",
          "text": [
            "30\n"
          ]
        }
      ],
      "source": [
        "num1 = 10\n",
        "num2 = 20\n",
        "\n",
        "# Выведите на экран результат сложения 2-х чисел\n",
        "\n",
        "num1 += num2\n",
        "\n",
        "print(num1)"
      ]
    },
    {
      "cell_type": "markdown",
      "metadata": {
        "id": "EQdzTKaMlvyB"
      },
      "source": [
        "Операторы `+=`, `-=`, `*=`, `/=` изменяют значение текущей переменной путем сложения, вычитания, умножения и т.д. другой переменной. Они делают код **питоничным**, ускоряя как скорость написания кода, так и скорость его выполнения.\n",
        "\n",
        "Почему ускоряется скорость выполнения кода?\n",
        "\n",
        "Сценарий 1\n",
        "\n",
        "```\n",
        "a = 1 # занимаем ячейку памяти компьютера и даем ей идентификатор a\n",
        "b = 1 # занимаем ячейку памяти компьютера и даем ей идентификатор b\n",
        "\n",
        "c = a + b # занимаем ячейку памяти компьютера и даем ей идентификатор c\n",
        "```\n",
        "Сценарий 2\n",
        "```\n",
        "a = 1 # занимаем ячейку памяти компьютера и даем ей идентификатор a\n",
        "b = 1 # занимаем ячейку памяти компьютера и даем ей идентификатор b\n",
        "\n",
        "a += b # обновляем информацию в ячейке a\n",
        "```\n",
        "\n",
        "Результат тот же, но мы не заполняем место в памяти компьютера ячейкой `c`.\n",
        "А теперь представь, что мы работаем с большими данными. Как много памяти мы сохраним и насколько быстрее будет работать такой код!\n",
        "\n",
        "Так что питоничность - это то, к чему мы стремимся, как питонисты :)"
      ]
    },
    {
      "cell_type": "code",
      "execution_count": 10,
      "metadata": {
        "id": "C32ozj4SnYH1",
        "colab": {
          "base_uri": "https://localhost:8080/"
        },
        "outputId": "9c5821b8-434b-4f10-bcb3-39e3449b1e48"
      },
      "outputs": [
        {
          "output_type": "stream",
          "name": "stdout",
          "text": [
            "-10\n"
          ]
        }
      ],
      "source": [
        "num1 = 10\n",
        "num2 = 20\n",
        "\n",
        "# Выведите на экран результат вычитания 2-х чисел с помощью оператора -=\n",
        "\n",
        "num1 -= num2\n",
        "\n",
        "print(num1)"
      ]
    },
    {
      "cell_type": "code",
      "execution_count": 11,
      "metadata": {
        "id": "yF5z2RYgnh0O",
        "colab": {
          "base_uri": "https://localhost:8080/"
        },
        "outputId": "0fdff45a-9055-4f0f-e00c-13e21d3c162b"
      },
      "outputs": [
        {
          "output_type": "stream",
          "name": "stdout",
          "text": [
            "200\n"
          ]
        }
      ],
      "source": [
        "num1 = 10\n",
        "num2 = 20\n",
        "\n",
        "# Выведите на экран результат умножения 2-х чисел с помощью оператора *=\n",
        "\n",
        "num1 *= num2\n",
        "\n",
        "print(num1)"
      ]
    },
    {
      "cell_type": "code",
      "execution_count": 12,
      "metadata": {
        "id": "i0nBdi3ankz0",
        "colab": {
          "base_uri": "https://localhost:8080/"
        },
        "outputId": "0cebd460-21ad-4c67-9f60-e41743fb333d"
      },
      "outputs": [
        {
          "output_type": "stream",
          "name": "stdout",
          "text": [
            "0.5\n"
          ]
        }
      ],
      "source": [
        "num1 = 10\n",
        "num2 = 20\n",
        "\n",
        "# Выведите на экран результат деления 2-х чисел с помощью оператора /=\n",
        "\n",
        "num1 /= num2\n",
        "\n",
        "print(num1)"
      ]
    },
    {
      "cell_type": "markdown",
      "metadata": {
        "id": "f31cd5a8"
      },
      "source": [
        "\n",
        "## Теория: имена переменных и операции в Python\n",
        "\n",
        "### Имена переменных\n",
        "- Имя переменной должно быть **понятным и описательным**. Например, `age`, `user_name`, а не `a`, `xyz`.\n",
        "- Используйте **snake_case**, а не **camelCase**: слова разделяются символом подчёркивания (`max_value`, `user_input`).\n",
        "- Имя переменной **не может начинаться с цифры** и содержать пробелы.\n",
        "  > Python не считает `0variable`, но считает `variable0`. Это связано с тем, что то, что начинается с цифры, начинает интерпретироваться нашей системой как число. Не будем путать процессор :)\n",
        "- **Зарезервированные слова** (например, `for`, `if`, `class`) нельзя использовать в качестве имён.\n",
        "  > Что это за \"резерв\" такой? Сюда попадают названия, которые участвуют в работе языка Python: `for` запускает цикл, `class` объявляет класс и т.д. Использование таких слов в качестве переменных создаст *неоднозначность* в работе программы. Проще говоря, питон запутается!\n",
        "\n",
        "Плохой нейминг:\n",
        "```python\n",
        "a = 10\n",
        "b = \"hello\"\n",
        "```\n",
        "\n",
        "Хороший нейминг:\n",
        "```python\n",
        "user_age = 10\n",
        "greeting = \"hello\"\n",
        "```\n"
      ]
    },
    {
      "cell_type": "markdown",
      "source": [
        "**Практика** перед новым занятием"
      ],
      "metadata": {
        "id": "iI6yYKuwHTdc"
      }
    },
    {
      "cell_type": "code",
      "execution_count": 13,
      "metadata": {
        "colab": {
          "base_uri": "https://localhost:8080/"
        },
        "id": "44c1f87e",
        "outputId": "b8593cca-8bfb-46f3-a733-b1cca212afbb"
      },
      "outputs": [
        {
          "output_type": "stream",
          "name": "stdout",
          "text": [
            "Введи свой возраст: 22\n",
            "Переменная создана правильно.\n"
          ]
        }
      ],
      "source": [
        "# 1: создай переменную с именем user_age и сохрани в ней число, введённое с клавиатуры\n",
        "user_age = int(input(\"Введи свой возраст: \"))\n",
        "\n",
        "# Проверка\n",
        "assert isinstance(user_age, int)\n",
        "print(\"Переменная создана правильно.\")"
      ]
    },
    {
      "cell_type": "code",
      "source": [
        "# Теперь введи сюда имя пользователя\n",
        "user_age = int(input(\"Введи свой возраст: \"))\n",
        "\n",
        "# Проверка\n",
        "assert isinstance(user_age, int)"
      ],
      "metadata": {
        "id": "R_KvKPZtHika",
        "colab": {
          "base_uri": "https://localhost:8080/",
          "height": 228
        },
        "outputId": "9511dc92-ecc0-4152-f7dc-797edb65e638"
      },
      "execution_count": 14,
      "outputs": [
        {
          "name": "stdout",
          "output_type": "stream",
          "text": [
            "Введи свой возраст: Kate\n"
          ]
        },
        {
          "output_type": "error",
          "ename": "ValueError",
          "evalue": "invalid literal for int() with base 10: 'Kate'",
          "traceback": [
            "\u001b[0;31m---------------------------------------------------------------------------\u001b[0m",
            "\u001b[0;31mValueError\u001b[0m                                Traceback (most recent call last)",
            "\u001b[0;32m/tmp/ipython-input-2180308627.py\u001b[0m in \u001b[0;36m<cell line: 0>\u001b[0;34m()\u001b[0m\n\u001b[1;32m      1\u001b[0m \u001b[0;31m# Теперь введи сюда имя пользователя\u001b[0m\u001b[0;34m\u001b[0m\u001b[0;34m\u001b[0m\u001b[0m\n\u001b[0;32m----> 2\u001b[0;31m \u001b[0muser_age\u001b[0m \u001b[0;34m=\u001b[0m \u001b[0mint\u001b[0m\u001b[0;34m(\u001b[0m\u001b[0minput\u001b[0m\u001b[0;34m(\u001b[0m\u001b[0;34m\"Введи свой возраст: \"\u001b[0m\u001b[0;34m)\u001b[0m\u001b[0;34m)\u001b[0m\u001b[0;34m\u001b[0m\u001b[0;34m\u001b[0m\u001b[0m\n\u001b[0m\u001b[1;32m      3\u001b[0m \u001b[0;34m\u001b[0m\u001b[0m\n\u001b[1;32m      4\u001b[0m \u001b[0;31m# Проверка\u001b[0m\u001b[0;34m\u001b[0m\u001b[0;34m\u001b[0m\u001b[0m\n\u001b[1;32m      5\u001b[0m \u001b[0;32massert\u001b[0m \u001b[0misinstance\u001b[0m\u001b[0;34m(\u001b[0m\u001b[0muser_age\u001b[0m\u001b[0;34m,\u001b[0m \u001b[0mint\u001b[0m\u001b[0;34m)\u001b[0m\u001b[0;34m\u001b[0m\u001b[0;34m\u001b[0m\u001b[0m\n",
            "\u001b[0;31mValueError\u001b[0m: invalid literal for int() with base 10: 'Kate'"
          ]
        }
      ]
    },
    {
      "cell_type": "markdown",
      "source": [
        "Какой из элементов кода вызвал ошибку?\n",
        "\n",
        "**Ответ:**\n",
        "Ошибку вызывает функция int(), которая пытается преобразовать вводимую строку \"Kate\" в целое число, которым введенная строка не является."
      ],
      "metadata": {
        "id": "SiWR5PNMHwAf"
      }
    },
    {
      "cell_type": "markdown",
      "source": [
        "**Задания на закрепление материала**"
      ],
      "metadata": {
        "id": "H3EbQGPkItjR"
      }
    },
    {
      "cell_type": "markdown",
      "source": [
        "1. Создай переменную x = 10 и приьавт к ней 5 с помощью сокращённого (комбинированного) оператора"
      ],
      "metadata": {
        "id": "NwmxhHBEIx9L"
      }
    },
    {
      "cell_type": "code",
      "source": [
        "x = 10\n",
        "x += 5\n",
        "print(x)"
      ],
      "metadata": {
        "id": "SgV8q_5OHd_E",
        "colab": {
          "base_uri": "https://localhost:8080/"
        },
        "outputId": "0ebca304-80e1-475e-8b9d-7165b1951201"
      },
      "execution_count": 20,
      "outputs": [
        {
          "output_type": "stream",
          "name": "stdout",
          "text": [
            "15\n"
          ]
        }
      ]
    },
    {
      "cell_type": "markdown",
      "source": [
        "2. Написать код, чтобы преобразовать температуру в градусах по Цельсию к виду значений температуры в градусах по Фаренгейту. Использовать `int(input())` для ввода значения температур"
      ],
      "metadata": {
        "id": "dd2gF9NwJA-v"
      }
    },
    {
      "cell_type": "code",
      "source": [
        "degree_с = int(input(\"Введите количество градусов по цельсию: \"))\n",
        "degree_f = int(degree_с * 1.8 + 32)\n",
        "print(f\"Градусы по фаренгейту: {degree_f}\")"
      ],
      "metadata": {
        "id": "Kt3veehuJzJ5",
        "colab": {
          "base_uri": "https://localhost:8080/"
        },
        "outputId": "453a378b-de64-4be1-941e-4814ef2e41a2"
      },
      "execution_count": 45,
      "outputs": [
        {
          "output_type": "stream",
          "name": "stdout",
          "text": [
            "Введите количество градусов по цельсию: 45\n",
            "Градусы по фаренгейту: 113\n"
          ]
        }
      ]
    },
    {
      "cell_type": "code",
      "source": [
        "# Вариант с нецелочисленными данными ввода и отбрасыванием дробной части в результате\n",
        "\n",
        "degree = float(input(\"Введите количество градусов по цельсию: \"))\n",
        "degree *= 1.8\n",
        "degree += 32\n",
        "print(f\"{int(degree)} градус по Фаренгейту\")"
      ],
      "metadata": {
        "colab": {
          "base_uri": "https://localhost:8080/"
        },
        "id": "Knx9dUCpa6B8",
        "outputId": "5d328bc7-33f8-4107-a709-f1d213801b27"
      },
      "execution_count": 48,
      "outputs": [
        {
          "output_type": "stream",
          "name": "stdout",
          "text": [
            "Введите количество градусов по цельсию: 232.778\n",
            "451 градус по Фаренгейту\n"
          ]
        }
      ]
    },
    {
      "cell_type": "markdown",
      "source": [
        "3. Написать код, чтобы переводить минуты в часы и считать остаток минут. Использовать `int(input())` для ввода количества минут"
      ],
      "metadata": {
        "id": "vX8Tl1zJJ6Gx"
      }
    },
    {
      "cell_type": "code",
      "source": [
        "minutes = int(input(\"Введите количество минут: \"))\n",
        "\n",
        "hours = minutes // 60\n",
        "remaining_minutes = minutes % 60\n",
        "\n",
        "print(f\"{minutes} минут = {hours} часов и {remaining_minutes} минут\")"
      ],
      "metadata": {
        "id": "lBhk8No8KFRH",
        "colab": {
          "base_uri": "https://localhost:8080/"
        },
        "outputId": "75940dec-91d8-41a2-9e17-1366a24ad7c5"
      },
      "execution_count": 51,
      "outputs": [
        {
          "output_type": "stream",
          "name": "stdout",
          "text": [
            "Введите количество минут: 557\n",
            "557 минут = 9 часов и 17 минут\n"
          ]
        }
      ]
    },
    {
      "cell_type": "markdown",
      "source": [
        "4. Ячейка кода ниже должна принимать 2 числа и считать их сумму, разность, произведение и частное"
      ],
      "metadata": {
        "id": "CjEzHXxYKFpF"
      }
    },
    {
      "cell_type": "code",
      "source": [
        "num1 = int(input(\"Введите первое число: \"))\n",
        "num2 = int(input(\"Введите второе число: \"))\n",
        "print(f\"Сумма: {num1 + num2}; разность: {num1 - num2}; произведение: {num1 * num2}; частное: {num1 / num2}\")"
      ],
      "metadata": {
        "id": "NZ2kppmuKPvJ",
        "colab": {
          "base_uri": "https://localhost:8080/"
        },
        "outputId": "ddcc44ec-935b-4d7a-a777-17204406bef0"
      },
      "execution_count": 55,
      "outputs": [
        {
          "output_type": "stream",
          "name": "stdout",
          "text": [
            "Введите первое число: 12\n",
            "Введите второе число: 60\n",
            "Сумма: 72; разность: -48; произведение: 720; частное: 0.2\n"
          ]
        }
      ]
    },
    {
      "cell_type": "markdown",
      "source": [
        "5. Сколько будет 15% от 200?"
      ],
      "metadata": {
        "id": "14V2rbizKQMH"
      }
    },
    {
      "cell_type": "code",
      "source": [
        "num1 = int(input(\"Введите число: \"))\n",
        "num2 = int(input(\"Введите процент, который нужно получить от числа: \"))\n",
        "print(f\"{num2}% от {num1}: {num2 * num1 / 100}\")"
      ],
      "metadata": {
        "id": "s3S7cjRGKa3w",
        "colab": {
          "base_uri": "https://localhost:8080/"
        },
        "outputId": "25eae9bf-6747-452c-aa1e-bf85b0149e97"
      },
      "execution_count": 57,
      "outputs": [
        {
          "output_type": "stream",
          "name": "stdout",
          "text": [
            "Введите число: 200\n",
            "Введите процент, который нужно получить от числа: 15\n",
            "15% от 200: 30.0\n"
          ]
        }
      ]
    }
  ],
  "metadata": {
    "colab": {
      "provenance": [],
      "include_colab_link": true
    },
    "kernelspec": {
      "display_name": "Python 3",
      "name": "python3"
    },
    "language_info": {
      "name": "python"
    }
  },
  "nbformat": 4,
  "nbformat_minor": 0
}