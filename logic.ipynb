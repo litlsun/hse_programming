{
  "nbformat": 4,
  "nbformat_minor": 0,
  "metadata": {
    "colab": {
      "provenance": [],
      "authorship_tag": "ABX9TyOr9fr5uBO1an9tWz8PsN3s",
      "include_colab_link": true
    },
    "kernelspec": {
      "name": "python3",
      "display_name": "Python 3"
    },
    "language_info": {
      "name": "python"
    }
  },
  "cells": [
    {
      "cell_type": "markdown",
      "metadata": {
        "id": "view-in-github",
        "colab_type": "text"
      },
      "source": [
        "<a href=\"https://colab.research.google.com/github/litlsun/hse_programming/blob/main/logic.ipynb\" target=\"_parent\"><img src=\"https://colab.research.google.com/assets/colab-badge.svg\" alt=\"Open In Colab\"/></a>"
      ]
    },
    {
      "cell_type": "markdown",
      "source": [
        "Задачи на логические операции"
      ],
      "metadata": {
        "id": "LvoF7laKGa0L"
      }
    },
    {
      "cell_type": "markdown",
      "source": [
        "Задача 1: Система авторизации для NLP-платформы\n",
        "\n",
        "Контекст: Вы разрабатываете систему доступа к AI-моделям. Нужно проверить, может ли пользователь использовать модель\n",
        "\n",
        "Инструкция: Заполните пропуски, используя логические операторы"
      ],
      "metadata": {
        "id": "4rV8HVANI-fX"
      }
    },
    {
      "cell_type": "code",
      "source": [
        "# Данные пользователя\n",
        "user_role = \"admin\"\n",
        "has_api_key = True\n",
        "model_available = True\n",
        "request_count_today = 95\n",
        "daily_limit = 100\n",
        "\n",
        "# ЗАДАНИЕ: Напишите условие доступа\n",
        "# Пользователь имеет доступ если:\n",
        "# - он администратор ИЛИ у него есть API-ключ\n",
        "# - И модель доступна\n",
        "# - И не превышен дневной лимит запросов\n",
        "\n",
        "# Приоритет: NOT -> AND -> OR\n",
        "result1 = not True and False    # False and False = False\n",
        "result2 = not (True and False)  # not False = True\n",
        "\n",
        "# Используйте скобки для ясности!\n",
        "#complex_condition = (a > b) and (c < d) or (e == f)\n",
        "\n",
        "has_access = (\n",
        "    (user_role == \"admin\" or has_api_key)\n",
        "    and model_available\n",
        "    and (request_count_today < daily_limit)\n",
        ")\n",
        "\n",
        "print(\"Доступ разрешен:\", has_access)\n"
      ],
      "metadata": {
        "colab": {
          "base_uri": "https://localhost:8080/"
        },
        "id": "u_0ct3-TIHzq",
        "outputId": "7b9e7adc-2983-4bb6-aae6-b3ad67163d3c"
      },
      "execution_count": 2,
      "outputs": [
        {
          "output_type": "stream",
          "name": "stdout",
          "text": [
            "Доступ разрешен: True\n"
          ]
        }
      ]
    },
    {
      "cell_type": "markdown",
      "source": [
        "Задача 2: Валидатор текста для обработки\n",
        "\n",
        "Контекст: Перед отправкой текста в NLP-модель нужно проверить его качество\n",
        "\n",
        "Инструкция: Реализуйте проверки текста"
      ],
      "metadata": {
        "id": "bIwFB8JOJKu0"
      }
    },
    {
      "cell_type": "code",
      "source": [
        "text = \"Привет! Как дела?\"\n",
        "banned_words = [\"мат\", \"оскорбление\", \"спам\", \"реклама\"]\n",
        "\n",
        "# ЗАДАНИЕ: Соберите финальную проверку\n",
        "# Текст валиден если:\n",
        "# - длина от 1 до 1000 символов\n",
        "# - И не содержит запрещенных слов\n",
        "# - И НЕ состоит только из английских символов\n",
        "\n",
        "# Проверки (проверка мата и англоязычного текста написана, нужно реализовать логику)\n",
        "text_lower = text.lower()\n",
        "contains_banned_words = any(word in text_lower for word in banned_words)\n",
        "is_english_only = all(ord(c) < 128 for c in text if c != ' ')\n",
        "\n",
        "is_valid = (\n",
        "    (1 <= len(text) <= 1000)\n",
        "    and not contains_banned_words\n",
        "    and not is_english_only\n",
        ")\n",
        "\n",
        "print(\"Текст валиден:\", is_valid)"
      ],
      "metadata": {
        "colab": {
          "base_uri": "https://localhost:8080/"
        },
        "id": "Y72uQ8CvJRCf",
        "outputId": "8431b4dc-8bc0-4db2-e314-a612168bc2ef"
      },
      "execution_count": 3,
      "outputs": [
        {
          "output_type": "stream",
          "name": "stdout",
          "text": [
            "Текст валиден: True\n"
          ]
        }
      ]
    },
    {
      "cell_type": "markdown",
      "source": [
        "Дополнение: Оператор in - проверка принадлежности\n",
        "\n",
        "Оператор in проверяет, содержится ли элемент в последовательности\n",
        "Возвращает True если содержится, False если нет\n",
        "\n",
        "Использование ->"
      ],
      "metadata": {
        "id": "kYGcPlNxJW7-"
      }
    },
    {
      "cell_type": "code",
      "source": [
        "# Со строками\n",
        "text = \"Hello World\"\n",
        "print(f\"'Hello' in 'Hello World' -> {'Hello' in text}\")  # True\n",
        "print(f\"'Python' in 'Hello World' -> {'Python' in text}\")  # False\n",
        "print(f\"'world' in 'Hello World' -> {'world' in text}\")  # False (регистр)\n",
        "print(f\"'o W' in 'Hello World' -> {'o W' in text}\")  # True (подстрока)\n",
        "\n",
        "# Списки\n",
        "fruits = [\"apple\", \"banana\", \"orange\"]\n",
        "print(f\"'apple' in ['apple', 'banana', 'orange'] -> {'apple' in fruits}\")  # True\n",
        "print(f\"'grape' in ['apple', 'banana', 'orange'] -> {'grape' in fruits}\")  # False\n",
        "\n",
        "# Словари (проверяет ключи)\n",
        "user_data = {\"name\": \"John\", \"age\": 30, \"city\": \"Moscow\"}\n",
        "print(f\"'name' in {{'name': 'John'}} -> {'name' in user_data}\")  # True\n",
        "print(f\"'John' in {{'name': 'John'}} -> {'John' in user_data}\")  # False\n",
        "\n",
        "# Множества\n",
        "unique_numbers = {1, 2, 3, 4, 5}\n",
        "print(f\"3 in {{1, 2, 3, 4, 5}} -> {3 in unique_numbers}\")  # True"
      ],
      "metadata": {
        "colab": {
          "base_uri": "https://localhost:8080/"
        },
        "id": "09iLcP7KJgnn",
        "outputId": "0a0270a4-ac20-4f01-da9b-1be864326e58"
      },
      "execution_count": 4,
      "outputs": [
        {
          "output_type": "stream",
          "name": "stdout",
          "text": [
            "'Hello' in 'Hello World' -> True\n",
            "'Python' in 'Hello World' -> False\n",
            "'world' in 'Hello World' -> False\n",
            "'o W' in 'Hello World' -> True\n",
            "'apple' in ['apple', 'banana', 'orange'] -> True\n",
            "'grape' in ['apple', 'banana', 'orange'] -> False\n",
            "'name' in {'name': 'John'} -> True\n",
            "'John' in {'name': 'John'} -> False\n",
            "3 in {1, 2, 3, 4, 5} -> True\n"
          ]
        }
      ]
    },
    {
      "cell_type": "markdown",
      "source": [
        "Задача 3: Система прав модератора\n",
        "\n",
        "Контекст: Разрабатываем систему прав доступа для модерации контента\n",
        "\n",
        "Инструкция: Определите права доступа"
      ],
      "metadata": {
        "id": "C2BQiWgCK6ZP"
      }
    },
    {
      "cell_type": "code",
      "source": [
        "# Данные пользователя и системы\n",
        "user_permissions = [\"read\", \"analyze\", \"moderate\"]\n",
        "content_categories = [\"text\", \"image\"]\n",
        "current_content_type = \"text\"\n",
        "\n",
        "# ЗАДАНИЕ: Определите возможности пользователя\n",
        "# Может модерировать если:\n",
        "# - есть права модератора И может обрабатывать текущий тип контента\n",
        "# Может анализировать если:\n",
        "# - есть права на анализ И доступен любой контент\n",
        "\n",
        "can_moderate = (\n",
        "    \"moderate\" in user_permissions\n",
        "    and current_content_type in content_categories\n",
        ")\n",
        "\n",
        "can_analyze = (\n",
        "    \"analyze\" in user_permissions\n",
        "    and len(content_categories) > 0\n",
        ")\n",
        "\n",
        "print(\"Может модерировать:\", can_moderate)\n",
        "print(\"Может анализировать:\", can_analyze)"
      ],
      "metadata": {
        "colab": {
          "base_uri": "https://localhost:8080/"
        },
        "id": "kyRWwegTLDLv",
        "outputId": "8d899f88-a227-44f9-ca45-a41cdfb00606"
      },
      "execution_count": 5,
      "outputs": [
        {
          "output_type": "stream",
          "name": "stdout",
          "text": [
            "Может модерировать: True\n",
            "Может анализировать: True\n"
          ]
        }
      ]
    },
    {
      "cell_type": "markdown",
      "source": [
        "Дополнение: Функции min(), max() и sum()\n",
        "\n",
        "min() возвращает наименьший элемент из:\n",
        "- последовательности\n",
        "- или из нескольких аргументов\n",
        "\n",
        "max() делает то же для наибольшего\n",
        "\n",
        "sum() считает сумму элементов"
      ],
      "metadata": {
        "id": "WLOoob8TMT-P"
      }
    },
    {
      "cell_type": "code",
      "source": [
        "numbers = [5, 2, 8, 1, 9]\n",
        "print(f\"min([5, 2, 8, 1, 9]) = {min(numbers)}\")  # 1\n",
        "\n",
        "print(f\"max(5, 2, 8, 1, 9) = {max(5, 2, 8, 1, 9)}\")  # 9\n",
        "\n",
        "numbers = [1, 2, 3, 4, 5]\n",
        "print(f\"sum([1, 2, 3, 4, 5]) = {sum(numbers)}\")  # 15"
      ],
      "metadata": {
        "colab": {
          "base_uri": "https://localhost:8080/"
        },
        "id": "nsqWI4HyMjjX",
        "outputId": "28bd13bf-c337-41e4-8520-3761a0b12a52"
      },
      "execution_count": 6,
      "outputs": [
        {
          "output_type": "stream",
          "name": "stdout",
          "text": [
            "min([5, 2, 8, 1, 9]) = 1\n",
            "max(5, 2, 8, 1, 9) = 9\n",
            "sum([1, 2, 3, 4, 5]) = 15\n"
          ]
        }
      ]
    },
    {
      "cell_type": "markdown",
      "source": [
        "Задача 4: Анализатор тональности отзывов\n",
        "\n",
        "Контекст: Анализируем массив отзывов для выявления проблем\n",
        "\n",
        "Инструкция: Проанализируйте тональность отзывов"
      ],
      "metadata": {
        "id": "SYmD4_FIMpP2"
      }
    },
    {
      "cell_type": "code",
      "source": [
        "# Тональность отзывов от -1 (очень негативный) до +1 (очень позитивный)\n",
        "reviews_sentiments = [0.8, 0.6, -0.3, 0.9, 0.7]\n",
        "\n",
        "# ЗАДАНИЕ: Определите характеристики отзывов с помощью следующих проверок\n",
        "# - Все отзывы позитивные: минимальное значение должно быть > 0\n",
        "# - Есть хотя бы один негативный: минимальное значение должно быть < 0\n",
        "# - Есть очень негативные отзывы: минимальное значение должно быть < -0.5\n",
        "# - Большинство отзывов позитивные\n",
        "\n",
        "# Здесь произведен расчет всех положительных отзывов\n",
        "# Вам осталось произвести проверку: их сумма должна быть больше или равна максимально возможной оценке, которую можно получить по всем отзывам\n",
        "\n",
        "# Расчет характеристик\n",
        "all_positive = min(reviews_sentiments) > 0\n",
        "has_negative = min(reviews_sentiments) < 0\n",
        "has_very_negative = min(reviews_sentiments) < -0.5\n",
        "\n",
        "positive_count = sum(1 for _ in filter(lambda x: x > 0, reviews_sentiments))\n",
        "total_count = len(reviews_sentiments)\n",
        "majority_positive = positive_count >= total_count / 2\n",
        "\n",
        "print(\"Все отзывы позитивные:\", all_positive)\n",
        "print(\"Есть хотя бы один негативный:\", has_negative)\n",
        "print(\"Есть очень негативные отзывы:\", has_very_negative)\n",
        "print(\"Большинство отзывов позитивные:\", majority_positive)"
      ],
      "metadata": {
        "colab": {
          "base_uri": "https://localhost:8080/"
        },
        "id": "i_ALqcXMMqvh",
        "outputId": "34f689b9-79a4-4737-fc64-da8771f83a78"
      },
      "execution_count": 9,
      "outputs": [
        {
          "output_type": "stream",
          "name": "stdout",
          "text": [
            "Все отзывы позитивные: False\n",
            "Есть хотя бы один негативный: True\n",
            "Есть очень негативные отзывы: False\n",
            "Большинство отзывов позитивные: True\n"
          ]
        }
      ]
    },
    {
      "cell_type": "markdown",
      "source": [
        "Задача 5: Система подписок для NLP-сервиса\n",
        "\n",
        "Контекст: Проверяем доступ к премиум-функциям AI-сервиса\n",
        "\n",
        "Инструкция: Реализуйте проверку подписки"
      ],
      "metadata": {
        "id": "LAXbMTJnOLoP"
      }
    },
    {
      "cell_type": "code",
      "source": [
        "# Данные пользователя и системы\n",
        "user_tier = \"premium\"\n",
        "subscription_active = True\n",
        "available_models = [\"gpt-3\", \"bert\", \"word2vec\", \"fasttext\"]\n",
        "premium_models = [\"gpt-3\", \"bert\", \"gpt-4\"]\n",
        "user_quota = {\"used\": 45, \"total\": 100}\n",
        "\n",
        "# ЗАДАНИЕ: Проверьте доступ к функциям\n",
        "# Доступ к премиум-моделям если:\n",
        "# - премиум-пользователь И активная подписка\n",
        "# - И есть хотя бы одна премиум-модель\n",
        "# - И не превышена квота\n",
        "# Доступ к базовым функциям если:\n",
        "# - есть любые модели И не превышена квота\n",
        "\n",
        "# Эта проверка уже реализована. Напишите остальные и примените их\n",
        "has_any_premium_model = any(model in available_models for model in premium_models)\n",
        "\n",
        "# Проверки\n",
        "has_any_premium_model = any(model in available_models for model in premium_models)\n",
        "quota_not_exceeded = user_quota[\"used\"] < user_quota[\"total\"]\n",
        "has_any_models = len(available_models) > 0\n",
        "is_premium_user = user_tier == \"premium\" and subscription_active\n",
        "\n",
        "# Доступ к функциям\n",
        "access_premium = (\n",
        "    is_premium_user\n",
        "    and has_any_premium_model\n",
        "    and quota_not_exceeded\n",
        ")\n",
        "\n",
        "access_basic = (\n",
        "    has_any_models\n",
        "    and quota_not_exceeded\n",
        ")\n",
        "\n",
        "print(\"Доступ к премиум-моделям:\", access_premium)\n",
        "print(\"Доступ к базовым функциям:\", access_basic)"
      ],
      "metadata": {
        "colab": {
          "base_uri": "https://localhost:8080/"
        },
        "id": "5Fike7vbOU72",
        "outputId": "6f94f701-9539-4ac8-d499-c942f469b79b"
      },
      "execution_count": 10,
      "outputs": [
        {
          "output_type": "stream",
          "name": "stdout",
          "text": [
            "Доступ к премиум-моделям: True\n",
            "Доступ к базовым функциям: True\n"
          ]
        }
      ]
    }
  ]
}